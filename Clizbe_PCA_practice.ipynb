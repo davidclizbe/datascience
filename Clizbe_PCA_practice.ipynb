{
  "nbformat": 4,
  "nbformat_minor": 0,
  "metadata": {
    "colab": {
      "name": "Clizbe PCA_practice.ipynb",
      "provenance": [],
      "collapsed_sections": [],
      "include_colab_link": true
    },
    "kernelspec": {
      "name": "python3",
      "display_name": "Python 3"
    }
  },
  "cells": [
    {
      "cell_type": "markdown",
      "metadata": {
        "id": "view-in-github",
        "colab_type": "text"
      },
      "source": [
        "<a href=\"https://colab.research.google.com/github/davidclizbe/datascience/blob/master/Clizbe_PCA_practice.ipynb\" target=\"_parent\"><img src=\"https://colab.research.google.com/assets/colab-badge.svg\" alt=\"Open In Colab\"/></a>"
      ]
    },
    {
      "cell_type": "markdown",
      "metadata": {
        "id": "7I_3H8ENNSrp"
      },
      "source": [
        "import numpy as np\n",
        "import pandas as pd\n",
        "from sklearn.decomposition import PCA\n",
        "from sklearn.linear_model import LogisticRegression\n",
        "from sklearn.svm import SVR\n",
        "from sklearn.preprocessing import StandardScaler\n",
        "from sklearn.feature_selection import RFE, SelectKBest"
      ]
    },
    {
      "cell_type": "code",
      "metadata": {
        "id": "vSgJR7hmPJsS"
      },
      "source": [
        "import numpy as np\n",
        "import pandas as pd\n",
        "from sklearn.model_selection import train_test_split\n",
        "from sklearn.linear_model import LogisticRegression\n",
        "from sklearn.svm import SVR\n",
        "from sklearn.decomposition import PCA\n",
        "from sklearn.preprocessing import StandardScaler\n",
        "from sklearn.feature_selection import RFE, SelectKBest"
      ],
      "execution_count": null,
      "outputs": []
    },
    {
      "cell_type": "code",
      "metadata": {
        "id": "vq_iyLnzPMgl",
        "colab": {
          "base_uri": "https://localhost:8080/",
          "height": 722
        },
        "outputId": "45b4c9d4-c2fa-48ec-d443-ea89ee264a09"
      },
      "source": [
        "data = pd.read_csv('https://docs.google.com/spreadsheets/d/1pmBtSw7v_tU_dIX1-4E8_Q7wC43fDs6LGDQzN49-ffk/export?format=csv')\n",
        "data.info()"
      ],
      "execution_count": null,
      "outputs": [
        {
          "output_type": "stream",
          "text": [
            "<class 'pandas.core.frame.DataFrame'>\n",
            "RangeIndex: 79931 entries, 0 to 79930\n",
            "Data columns (total 35 columns):\n",
            " #   Column              Non-Null Count  Dtype  \n",
            "---  ------              --------------  -----  \n",
            " 0   gameString          79931 non-null  object \n",
            " 1   gameDate            79931 non-null  object \n",
            " 2   visitor             79931 non-null  object \n",
            " 3   home                79931 non-null  object \n",
            " 4   inning              79931 non-null  int64  \n",
            " 5   side                79931 non-null  object \n",
            " 6   balls               79931 non-null  int64  \n",
            " 7   strikes             79931 non-null  int64  \n",
            " 8   outs                79931 non-null  int64  \n",
            " 9   batterId            79931 non-null  int64  \n",
            " 10  batterName          79931 non-null  object \n",
            " 11  batterHand          79931 non-null  object \n",
            " 12  batterPosition      79931 non-null  object \n",
            " 13  pitcherId           79931 non-null  int64  \n",
            " 14  pitcherName         79931 non-null  object \n",
            " 15  pitcherHand         79931 non-null  object \n",
            " 16  timesFaced          79931 non-null  int64  \n",
            " 17  catcherId           79931 non-null  int64  \n",
            " 18  catcher             79931 non-null  object \n",
            " 19  umpireId            79931 non-null  int64  \n",
            " 20  umpire              79931 non-null  object \n",
            " 21  probCalledStrike    79921 non-null  float64\n",
            " 22  pitchResult         79931 non-null  object \n",
            " 23  pitchType           79931 non-null  object \n",
            " 24  releaseVelocity     79931 non-null  float64\n",
            " 25  spinRate            73734 non-null  float64\n",
            " 26  spinDir             79620 non-null  float64\n",
            " 27  locationHoriz       79931 non-null  float64\n",
            " 28  locationVert        79931 non-null  float64\n",
            " 29  movementHoriz       79931 non-null  float64\n",
            " 30  movementVert        79931 non-null  float64\n",
            " 31  battedBallType      14499 non-null  object \n",
            " 32  battedBallAngle     14499 non-null  float64\n",
            " 33  battedBallDistance  14499 non-null  float64\n",
            " 34  paResult            20591 non-null  object \n",
            "dtypes: float64(10), int64(9), object(16)\n",
            "memory usage: 21.3+ MB\n"
          ],
          "name": "stdout"
        }
      ]
    },
    {
      "cell_type": "code",
      "metadata": {
        "id": "c4tIONHIR56E",
        "colab": {
          "base_uri": "https://localhost:8080/",
          "height": 299
        },
        "outputId": "039b8f45-1d98-4355-9492-88cfe40e68cc"
      },
      "source": [
        "data.head()"
      ],
      "execution_count": null,
      "outputs": [
        {
          "output_type": "execute_result",
          "data": {
            "text/html": [
              "<div>\n",
              "<style scoped>\n",
              "    .dataframe tbody tr th:only-of-type {\n",
              "        vertical-align: middle;\n",
              "    }\n",
              "\n",
              "    .dataframe tbody tr th {\n",
              "        vertical-align: top;\n",
              "    }\n",
              "\n",
              "    .dataframe thead th {\n",
              "        text-align: right;\n",
              "    }\n",
              "</style>\n",
              "<table border=\"1\" class=\"dataframe\">\n",
              "  <thead>\n",
              "    <tr style=\"text-align: right;\">\n",
              "      <th></th>\n",
              "      <th>gameString</th>\n",
              "      <th>gameDate</th>\n",
              "      <th>visitor</th>\n",
              "      <th>home</th>\n",
              "      <th>inning</th>\n",
              "      <th>side</th>\n",
              "      <th>balls</th>\n",
              "      <th>strikes</th>\n",
              "      <th>outs</th>\n",
              "      <th>batterId</th>\n",
              "      <th>batterName</th>\n",
              "      <th>batterHand</th>\n",
              "      <th>batterPosition</th>\n",
              "      <th>pitcherId</th>\n",
              "      <th>pitcherName</th>\n",
              "      <th>pitcherHand</th>\n",
              "      <th>timesFaced</th>\n",
              "      <th>catcherId</th>\n",
              "      <th>catcher</th>\n",
              "      <th>umpireId</th>\n",
              "      <th>umpire</th>\n",
              "      <th>probCalledStrike</th>\n",
              "      <th>pitchResult</th>\n",
              "      <th>pitchType</th>\n",
              "      <th>releaseVelocity</th>\n",
              "      <th>spinRate</th>\n",
              "      <th>spinDir</th>\n",
              "      <th>locationHoriz</th>\n",
              "      <th>locationVert</th>\n",
              "      <th>movementHoriz</th>\n",
              "      <th>movementVert</th>\n",
              "      <th>battedBallType</th>\n",
              "      <th>battedBallAngle</th>\n",
              "      <th>battedBallDistance</th>\n",
              "      <th>paResult</th>\n",
              "    </tr>\n",
              "  </thead>\n",
              "  <tbody>\n",
              "    <tr>\n",
              "      <th>0</th>\n",
              "      <td>gid_2016_04_04_sfnmlb_milmlb_1</td>\n",
              "      <td>2016-04-04</td>\n",
              "      <td>SF</td>\n",
              "      <td>MIL</td>\n",
              "      <td>1</td>\n",
              "      <td>T</td>\n",
              "      <td>0</td>\n",
              "      <td>0</td>\n",
              "      <td>0</td>\n",
              "      <td>452655</td>\n",
              "      <td>Denard Span</td>\n",
              "      <td>L</td>\n",
              "      <td>CF</td>\n",
              "      <td>503449</td>\n",
              "      <td>Wily Peralta</td>\n",
              "      <td>R</td>\n",
              "      <td>1</td>\n",
              "      <td>518960</td>\n",
              "      <td>Jonathan Lucroy</td>\n",
              "      <td>427192</td>\n",
              "      <td>Brian Gorman</td>\n",
              "      <td>0.975</td>\n",
              "      <td>SL</td>\n",
              "      <td>FF</td>\n",
              "      <td>94.2</td>\n",
              "      <td>2044.22</td>\n",
              "      <td>205.477</td>\n",
              "      <td>-0.374</td>\n",
              "      <td>2.933</td>\n",
              "      <td>-6.93</td>\n",
              "      <td>8.28</td>\n",
              "      <td>NaN</td>\n",
              "      <td>NaN</td>\n",
              "      <td>NaN</td>\n",
              "      <td>NaN</td>\n",
              "    </tr>\n",
              "    <tr>\n",
              "      <th>1</th>\n",
              "      <td>gid_2016_04_04_sfnmlb_milmlb_1</td>\n",
              "      <td>2016-04-04</td>\n",
              "      <td>SF</td>\n",
              "      <td>MIL</td>\n",
              "      <td>1</td>\n",
              "      <td>T</td>\n",
              "      <td>0</td>\n",
              "      <td>1</td>\n",
              "      <td>0</td>\n",
              "      <td>452655</td>\n",
              "      <td>Denard Span</td>\n",
              "      <td>L</td>\n",
              "      <td>CF</td>\n",
              "      <td>503449</td>\n",
              "      <td>Wily Peralta</td>\n",
              "      <td>R</td>\n",
              "      <td>1</td>\n",
              "      <td>518960</td>\n",
              "      <td>Jonathan Lucroy</td>\n",
              "      <td>427192</td>\n",
              "      <td>Brian Gorman</td>\n",
              "      <td>0.745</td>\n",
              "      <td>SL</td>\n",
              "      <td>FT</td>\n",
              "      <td>97.1</td>\n",
              "      <td>1966.32</td>\n",
              "      <td>220.143</td>\n",
              "      <td>0.342</td>\n",
              "      <td>3.223</td>\n",
              "      <td>-7.48</td>\n",
              "      <td>7.35</td>\n",
              "      <td>NaN</td>\n",
              "      <td>NaN</td>\n",
              "      <td>NaN</td>\n",
              "      <td>NaN</td>\n",
              "    </tr>\n",
              "    <tr>\n",
              "      <th>2</th>\n",
              "      <td>gid_2016_04_04_sfnmlb_milmlb_1</td>\n",
              "      <td>2016-04-04</td>\n",
              "      <td>SF</td>\n",
              "      <td>MIL</td>\n",
              "      <td>1</td>\n",
              "      <td>T</td>\n",
              "      <td>0</td>\n",
              "      <td>2</td>\n",
              "      <td>0</td>\n",
              "      <td>452655</td>\n",
              "      <td>Denard Span</td>\n",
              "      <td>L</td>\n",
              "      <td>CF</td>\n",
              "      <td>503449</td>\n",
              "      <td>Wily Peralta</td>\n",
              "      <td>R</td>\n",
              "      <td>1</td>\n",
              "      <td>518960</td>\n",
              "      <td>Jonathan Lucroy</td>\n",
              "      <td>427192</td>\n",
              "      <td>Brian Gorman</td>\n",
              "      <td>0.968</td>\n",
              "      <td>IP</td>\n",
              "      <td>FF</td>\n",
              "      <td>96.5</td>\n",
              "      <td>2127.17</td>\n",
              "      <td>198.816</td>\n",
              "      <td>0.389</td>\n",
              "      <td>2.266</td>\n",
              "      <td>-5.22</td>\n",
              "      <td>9.79</td>\n",
              "      <td>FB</td>\n",
              "      <td>27.78</td>\n",
              "      <td>323.03</td>\n",
              "      <td>IP_OUT</td>\n",
              "    </tr>\n",
              "    <tr>\n",
              "      <th>3</th>\n",
              "      <td>gid_2016_04_04_sfnmlb_milmlb_1</td>\n",
              "      <td>2016-04-04</td>\n",
              "      <td>SF</td>\n",
              "      <td>MIL</td>\n",
              "      <td>1</td>\n",
              "      <td>T</td>\n",
              "      <td>0</td>\n",
              "      <td>0</td>\n",
              "      <td>1</td>\n",
              "      <td>605412</td>\n",
              "      <td>Joe Panik</td>\n",
              "      <td>L</td>\n",
              "      <td>2B</td>\n",
              "      <td>503449</td>\n",
              "      <td>Wily Peralta</td>\n",
              "      <td>R</td>\n",
              "      <td>1</td>\n",
              "      <td>518960</td>\n",
              "      <td>Jonathan Lucroy</td>\n",
              "      <td>427192</td>\n",
              "      <td>Brian Gorman</td>\n",
              "      <td>1.000</td>\n",
              "      <td>SL</td>\n",
              "      <td>FT</td>\n",
              "      <td>95.6</td>\n",
              "      <td>1947.11</td>\n",
              "      <td>198.734</td>\n",
              "      <td>-0.004</td>\n",
              "      <td>2.380</td>\n",
              "      <td>-7.24</td>\n",
              "      <td>8.40</td>\n",
              "      <td>NaN</td>\n",
              "      <td>NaN</td>\n",
              "      <td>NaN</td>\n",
              "      <td>NaN</td>\n",
              "    </tr>\n",
              "    <tr>\n",
              "      <th>4</th>\n",
              "      <td>gid_2016_04_04_sfnmlb_milmlb_1</td>\n",
              "      <td>2016-04-04</td>\n",
              "      <td>SF</td>\n",
              "      <td>MIL</td>\n",
              "      <td>1</td>\n",
              "      <td>T</td>\n",
              "      <td>0</td>\n",
              "      <td>1</td>\n",
              "      <td>1</td>\n",
              "      <td>605412</td>\n",
              "      <td>Joe Panik</td>\n",
              "      <td>L</td>\n",
              "      <td>2B</td>\n",
              "      <td>503449</td>\n",
              "      <td>Wily Peralta</td>\n",
              "      <td>R</td>\n",
              "      <td>1</td>\n",
              "      <td>518960</td>\n",
              "      <td>Jonathan Lucroy</td>\n",
              "      <td>427192</td>\n",
              "      <td>Brian Gorman</td>\n",
              "      <td>1.000</td>\n",
              "      <td>F</td>\n",
              "      <td>FF</td>\n",
              "      <td>95.6</td>\n",
              "      <td>1903.08</td>\n",
              "      <td>205.503</td>\n",
              "      <td>0.272</td>\n",
              "      <td>2.421</td>\n",
              "      <td>-6.79</td>\n",
              "      <td>9.37</td>\n",
              "      <td>NaN</td>\n",
              "      <td>NaN</td>\n",
              "      <td>NaN</td>\n",
              "      <td>NaN</td>\n",
              "    </tr>\n",
              "  </tbody>\n",
              "</table>\n",
              "</div>"
            ],
            "text/plain": [
              "                       gameString    gameDate  ... battedBallDistance paResult\n",
              "0  gid_2016_04_04_sfnmlb_milmlb_1  2016-04-04  ...                NaN      NaN\n",
              "1  gid_2016_04_04_sfnmlb_milmlb_1  2016-04-04  ...                NaN      NaN\n",
              "2  gid_2016_04_04_sfnmlb_milmlb_1  2016-04-04  ...             323.03   IP_OUT\n",
              "3  gid_2016_04_04_sfnmlb_milmlb_1  2016-04-04  ...                NaN      NaN\n",
              "4  gid_2016_04_04_sfnmlb_milmlb_1  2016-04-04  ...                NaN      NaN\n",
              "\n",
              "[5 rows x 35 columns]"
            ]
          },
          "metadata": {
            "tags": []
          },
          "execution_count": 15
        }
      ]
    },
    {
      "cell_type": "code",
      "metadata": {
        "id": "UkiEBiZHPW5_"
      },
      "source": [
        "numeric_cols = [col for col in data.columns if data[col].dtypes != 'O']"
      ],
      "execution_count": null,
      "outputs": []
    },
    {
      "cell_type": "code",
      "metadata": {
        "id": "SeY-tHwLQG_B",
        "colab": {
          "base_uri": "https://localhost:8080/",
          "height": 336
        },
        "outputId": "adbb73e2-5f7b-4af2-a407-31d5f51e4203"
      },
      "source": [
        "numeric_cols"
      ],
      "execution_count": null,
      "outputs": [
        {
          "output_type": "execute_result",
          "data": {
            "text/plain": [
              "['inning',\n",
              " 'balls',\n",
              " 'strikes',\n",
              " 'outs',\n",
              " 'batterId',\n",
              " 'pitcherId',\n",
              " 'timesFaced',\n",
              " 'catcherId',\n",
              " 'umpireId',\n",
              " 'probCalledStrike',\n",
              " 'releaseVelocity',\n",
              " 'spinRate',\n",
              " 'spinDir',\n",
              " 'locationHoriz',\n",
              " 'locationVert',\n",
              " 'movementHoriz',\n",
              " 'movementVert',\n",
              " 'battedBallAngle',\n",
              " 'battedBallDistance']"
            ]
          },
          "metadata": {
            "tags": []
          },
          "execution_count": 12
        }
      ]
    },
    {
      "cell_type": "code",
      "metadata": {
        "id": "WIG579iQRfs6"
      },
      "source": [
        "num_df = data[numeric_cols]\n",
        "num_df = num_df.dropna().copy()\n",
        "X = num_df.drop('releaseVelocity', axis=1)\n",
        "Y = num_df['releaseVelocity']\n",
        "\n",
        "X_train, X_test, Y_train, Y_test = train_test_split(X,Y)"
      ],
      "execution_count": null,
      "outputs": []
    },
    {
      "cell_type": "code",
      "metadata": {
        "id": "XxgVxKjJQuwU"
      },
      "source": [
        "scale = StandardScaler()\n",
        "scaled_train = scale.fit(X_train)\n",
        "scaled_test = scale.fit(X_test)\n",
        "transformed_train = scaled.transform(X_train)\n",
        "transformed_test = scaled.transform(X_test)"
      ],
      "execution_count": null,
      "outputs": []
    },
    {
      "cell_type": "code",
      "metadata": {
        "id": "XTLopNdgRDtn"
      },
      "source": [
        "pca_x = PCA().fit(transformed_train)\n",
        "tformed = pca_x.transform(transformed_train)\n",
        "pca_x_test = pca_x.transform(transformed_test)"
      ],
      "execution_count": null,
      "outputs": []
    },
    {
      "cell_type": "code",
      "metadata": {
        "id": "V1dNlrvBSyNZ"
      },
      "source": [
        "svr = SVR().fit(tformed, Y_train)"
      ],
      "execution_count": null,
      "outputs": []
    },
    {
      "cell_type": "code",
      "metadata": {
        "id": "iotR7TvnTcos",
        "colab": {
          "base_uri": "https://localhost:8080/",
          "height": 34
        },
        "outputId": "ffed483a-41a0-4874-c772-2e6bf4506c78"
      },
      "source": [
        "svr.score(tformed, Y_train)"
      ],
      "execution_count": null,
      "outputs": [
        {
          "output_type": "execute_result",
          "data": {
            "text/plain": [
              "0.6726232928924929"
            ]
          },
          "metadata": {
            "tags": []
          },
          "execution_count": 62
        }
      ]
    },
    {
      "cell_type": "code",
      "metadata": {
        "id": "WrAFQ5yxXGrY",
        "colab": {
          "base_uri": "https://localhost:8080/",
          "height": 34
        },
        "outputId": "6edfecd2-26fd-40e7-900b-b8cb6d197201"
      },
      "source": [
        "svr.score(pca_x_test, Y_test)"
      ],
      "execution_count": null,
      "outputs": [
        {
          "output_type": "execute_result",
          "data": {
            "text/plain": [
              "0.6270674555459737"
            ]
          },
          "metadata": {
            "tags": []
          },
          "execution_count": 64
        }
      ]
    }
  ]
}