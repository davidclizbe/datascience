{
  "nbformat": 4,
  "nbformat_minor": 0,
  "metadata": {
    "colab": {
      "name": "Clizbe Time Series Example.ipynb",
      "provenance": [],
      "collapsed_sections": [],
      "authorship_tag": "ABX9TyO7eGKL3Q78Q7OJcbgJgmCv",
      "include_colab_link": true
    },
    "kernelspec": {
      "name": "python3",
      "display_name": "Python 3"
    }
  },
  "cells": [
    {
      "cell_type": "markdown",
      "metadata": {
        "id": "view-in-github",
        "colab_type": "text"
      },
      "source": [
        "<a href=\"https://colab.research.google.com/github/davidclizbe/datascience/blob/master/Clizbe_Time_Series_Example.ipynb\" target=\"_parent\"><img src=\"https://colab.research.google.com/assets/colab-badge.svg\" alt=\"Open In Colab\"/></a>"
      ]
    },
    {
      "cell_type": "code",
      "metadata": {
        "id": "k0aLPF2gJdpZ"
      },
      "source": [
        "import numpy as np\n",
        "import pandas as pd\n",
        "import scipy\n",
        "from datetime import datetime\n",
        "import datetime as dt\n",
        "import matplotlib.pyplot as plt\n",
        "%matplotlib inline"
      ],
      "execution_count": null,
      "outputs": []
    },
    {
      "cell_type": "code",
      "metadata": {
        "id": "G-A3wAQMJiiG"
      },
      "source": [
        "sp_data = pd.read_csv('https://tf-assets-prod.s3.amazonaws.com/tf-curric/data-science/SP500_raw.csv')\n",
        "\n",
        "# Convert exchange rate to a number, with coersion to throw NA's if conversion not possible\n",
        "sp_data['price'] = pd.to_numeric(sp_data.SP500, errors='coerce')\n",
        "\n",
        "# Remove NA's\n",
        "sp_data.dropna(inplace=True)"
      ],
      "execution_count": null,
      "outputs": []
    },
    {
      "cell_type": "code",
      "metadata": {
        "id": "7_R14yrRJkbm",
        "colab": {
          "base_uri": "https://localhost:8080/",
          "height": 203
        },
        "outputId": "8a1bc9a6-337e-43c1-ea8a-4979c8634196"
      },
      "source": [
        "sp_data.head()"
      ],
      "execution_count": null,
      "outputs": [
        {
          "output_type": "execute_result",
          "data": {
            "text/html": [
              "<div>\n",
              "<style scoped>\n",
              "    .dataframe tbody tr th:only-of-type {\n",
              "        vertical-align: middle;\n",
              "    }\n",
              "\n",
              "    .dataframe tbody tr th {\n",
              "        vertical-align: top;\n",
              "    }\n",
              "\n",
              "    .dataframe thead th {\n",
              "        text-align: right;\n",
              "    }\n",
              "</style>\n",
              "<table border=\"1\" class=\"dataframe\">\n",
              "  <thead>\n",
              "    <tr style=\"text-align: right;\">\n",
              "      <th></th>\n",
              "      <th>DATE</th>\n",
              "      <th>SP500</th>\n",
              "      <th>price</th>\n",
              "    </tr>\n",
              "  </thead>\n",
              "  <tbody>\n",
              "    <tr>\n",
              "      <th>0</th>\n",
              "      <td>2008-01-02</td>\n",
              "      <td>1447.16</td>\n",
              "      <td>1447.16</td>\n",
              "    </tr>\n",
              "    <tr>\n",
              "      <th>1</th>\n",
              "      <td>2008-01-03</td>\n",
              "      <td>1447.16</td>\n",
              "      <td>1447.16</td>\n",
              "    </tr>\n",
              "    <tr>\n",
              "      <th>2</th>\n",
              "      <td>2008-01-04</td>\n",
              "      <td>1411.63</td>\n",
              "      <td>1411.63</td>\n",
              "    </tr>\n",
              "    <tr>\n",
              "      <th>3</th>\n",
              "      <td>2008-01-07</td>\n",
              "      <td>1416.18</td>\n",
              "      <td>1416.18</td>\n",
              "    </tr>\n",
              "    <tr>\n",
              "      <th>4</th>\n",
              "      <td>2008-01-08</td>\n",
              "      <td>1390.19</td>\n",
              "      <td>1390.19</td>\n",
              "    </tr>\n",
              "  </tbody>\n",
              "</table>\n",
              "</div>"
            ],
            "text/plain": [
              "         DATE    SP500    price\n",
              "0  2008-01-02  1447.16  1447.16\n",
              "1  2008-01-03  1447.16  1447.16\n",
              "2  2008-01-04  1411.63  1411.63\n",
              "3  2008-01-07  1416.18  1416.18\n",
              "4  2008-01-08  1390.19  1390.19"
            ]
          },
          "metadata": {
            "tags": []
          },
          "execution_count": 3
        }
      ]
    },
    {
      "cell_type": "code",
      "metadata": {
        "id": "wObmeAOWJmnz",
        "colab": {
          "base_uri": "https://localhost:8080/",
          "height": 281
        },
        "outputId": "b474dcc4-7265-4898-908d-6c234abce27a"
      },
      "source": [
        "sp_data.plot()\n",
        "plt.title('S&P500 Time Series')\n",
        "plt.show()"
      ],
      "execution_count": null,
      "outputs": [
        {
          "output_type": "display_data",
          "data": {
            "image/png": "[encoded data removed]",
            "text/plain": [
              "<Figure size 432x288 with 1 Axes>"
            ]
          },
          "metadata": {
            "tags": [],
            "needs_background": "light"
          }
        }
      ]
    },
    {
      "cell_type": "code",
      "metadata": {
        "id": "Xk3R7OaNJoz_",
        "colab": {
          "base_uri": "https://localhost:8080/",
          "height": 285
        },
        "outputId": "386943be-2348-41f2-be95-46b554e9b4e9"
      },
      "source": [
        "sp_data.index = pd.to_datetime(sp_data.DATE)\n",
        "sp_data.plot()\n",
        "plt.title('S&P 500 Time Series')\n",
        "plt.show()"
      ],
      "execution_count": null,
      "outputs": [
        {
          "output_type": "display_data",
          "data": {
            "image/png": "[encoded data removed]",
            "text/plain": [
              "<Figure size 432x288 with 1 Axes>"
            ]
          },
          "metadata": {
            "tags": [],
            "needs_background": "light"
          }
        }
      ]
    },
    {
      "cell_type": "code",
      "metadata": {
        "id": "Ng4Rx0yWJrNb",
        "colab": {
          "base_uri": "https://localhost:8080/",
          "height": 285
        },
        "outputId": "93e48b69-aded-4986-c44f-d33fd489c705"
      },
      "source": [
        "sp_data['diff_1'] = sp_data.price - sp_data.price.shift()\n",
        "sp_data.plot(y='diff_1')\n",
        "plt.title('S&P 500 Time Series')\n",
        "plt.show()"
      ],
      "execution_count": null,
      "outputs": [
        {
          "output_type": "display_data",
          "data": {
            "image/png": "[encoded data removed]",
            "text/plain": [
              "<Figure size 432x288 with 1 Axes>"
            ]
          },
          "metadata": {
            "tags": [],
            "needs_background": "light"
          }
        }
      ]
    },
    {
      "cell_type": "code",
      "metadata": {
        "id": "dBe6WcJIJtZD",
        "colab": {
          "base_uri": "https://localhost:8080/",
          "height": 357
        },
        "outputId": "99356eb1-4df5-48ce-98c3-220eb802f6cc"
      },
      "source": [
        "from statsmodels.tsa.stattools import pacf\n",
        "x_acf = pd.DataFrame(pacf(sp_data.price))\n",
        "x_acf.plot(kind='bar')\n",
        "plt.title(\"S&P PACF\")"
      ],
      "execution_count": null,
      "outputs": [
        {
          "output_type": "stream",
          "text": [
            "/usr/local/lib/python3.6/dist-packages/statsmodels/tools/_testing.py:19: FutureWarning: pandas.util.testing is deprecated. Use the functions in the public API at pandas.testing instead.\n",
            "  import pandas.util.testing as tm\n"
          ],
          "name": "stderr"
        },
        {
          "output_type": "execute_result",
          "data": {
            "text/plain": [
              "Text(0.5, 1.0, 'S&P PACF')"
            ]
          },
          "metadata": {
            "tags": []
          },
          "execution_count": 7
        },
        {
          "output_type": "display_data",
          "data": {
            "image/png": "[encoded data removed]",
            "text/plain": [
              "<Figure size 432x288 with 1 Axes>"
            ]
          },
          "metadata": {
            "tags": [],
            "needs_background": "light"
          }
        }
      ]
    },
    {
      "cell_type": "code",
      "metadata": {
        "id": "AiwWn4s-JviE",
        "colab": {
          "base_uri": "https://localhost:8080/",
          "height": 301
        },
        "outputId": "ef4e1e20-94ac-4915-ca26-0102e3a748e2"
      },
      "source": [
        "x_acf = pd.DataFrame(pacf(sp_data.diff_1[1:]))\n",
        "x_acf.plot(kind='bar')\n",
        "plt.title(\"S&P 500 Diff PACF\")\n",
        "plt.legend(['difference'])"
      ],
      "execution_count": null,
      "outputs": [
        {
          "output_type": "execute_result",
          "data": {
            "text/plain": [
              "<matplotlib.legend.Legend at 0x7f36e05e54a8>"
            ]
          },
          "metadata": {
            "tags": []
          },
          "execution_count": 8
        },
        {
          "output_type": "display_data",
          "data": {
            "image/png": "[encoded data removed]",
            "text/plain": [
              "<Figure size 432x288 with 1 Axes>"
            ]
          },
          "metadata": {
            "tags": [],
            "needs_background": "light"
          }
        }
      ]
    },
    {
      "cell_type": "code",
      "metadata": {
        "id": "HdJhq5tyJx18",
        "colab": {
          "base_uri": "https://localhost:8080/",
          "height": 530
        },
        "outputId": "e1071732-90a5-4a56-9b78-102596bdd1b0"
      },
      "source": [
        "from statsmodels.tsa.arima_model import ARIMA\n",
        "model = ARIMA(sp_data.price, order=(0,1,0))\n",
        "model_fit = model.fit()\n",
        "print(model_fit.summary())\n",
        "print('Residuals Description')\n",
        "print(model_fit.resid.describe())"
      ],
      "execution_count": null,
      "outputs": [
        {
          "output_type": "stream",
          "text": [
            "                             ARIMA Model Results                              \n",
            "==============================================================================\n",
            "Dep. Variable:                D.price   No. Observations:                 2266\n",
            "Model:                 ARIMA(0, 1, 0)   Log Likelihood               -9602.159\n",
            "Method:                           css   S.D. of innovations             16.753\n",
            "Date:                Mon, 03 Aug 2020   AIC                          19208.317\n",
            "Time:                        11:50:13   BIC                          19219.769\n",
            "Sample:                             1   HQIC                         19212.496\n",
            "                                                                              \n",
            "==============================================================================\n",
            "                 coef    std err          z      P>|z|      [0.025      0.975]\n",
            "------------------------------------------------------------------------------\n",
            "const          0.3494      0.352      0.993      0.321      -0.340       1.039\n",
            "==============================================================================\n",
            "Residuals Description\n",
            "count    2.266000e+03\n",
            "mean     5.080569e-15\n",
            "std      1.675631e+01\n",
            "min     -1.069694e+02\n",
            "25%     -7.314369e+00\n",
            "50%      5.206311e-01\n",
            "75%      8.590631e+00\n",
            "max      1.037806e+02\n",
            "dtype: float64\n"
          ],
          "name": "stdout"
        },
        {
          "output_type": "stream",
          "text": [
            "/usr/local/lib/python3.6/dist-packages/statsmodels/tsa/base/tsa_model.py:219: ValueWarning: A date index has been provided, but it has no associated frequency information and so will be ignored when e.g. forecasting.\n",
            "  ' ignored when e.g. forecasting.', ValueWarning)\n",
            "/usr/local/lib/python3.6/dist-packages/statsmodels/tsa/base/tsa_model.py:219: ValueWarning: A date index has been provided, but it has no associated frequency information and so will be ignored when e.g. forecasting.\n",
            "  ' ignored when e.g. forecasting.', ValueWarning)\n"
          ],
          "name": "stderr"
        }
      ]
    },
    {
      "cell_type": "code",
      "metadata": {
        "id": "yuT9wIGoJ0Sv",
        "colab": {
          "base_uri": "https://localhost:8080/",
          "height": 600
        },
        "outputId": "272dc501-5bac-466f-bc83-29c416103870"
      },
      "source": [
        "from statsmodels.tsa.arima_model import ARIMA\n",
        "model = ARIMA(sp_data.price, order=(1,0,0))\n",
        "model_fit = model.fit()\n",
        "print(model_fit.summary())\n",
        "print('Residuals Description')\n",
        "print(model_fit.resid.describe())"
      ],
      "execution_count": null,
      "outputs": [
        {
          "output_type": "stream",
          "text": [
            "/usr/local/lib/python3.6/dist-packages/statsmodels/tsa/base/tsa_model.py:219: ValueWarning: A date index has been provided, but it has no associated frequency information and so will be ignored when e.g. forecasting.\n",
            "  ' ignored when e.g. forecasting.', ValueWarning)\n"
          ],
          "name": "stderr"
        },
        {
          "output_type": "stream",
          "text": [
            "                              ARMA Model Results                              \n",
            "==============================================================================\n",
            "Dep. Variable:                  price   No. Observations:                 2267\n",
            "Model:                     ARMA(1, 0)   Log Likelihood               -9609.725\n",
            "Method:                       css-mle   S.D. of innovations             16.753\n",
            "Date:                Mon, 03 Aug 2020   AIC                          19225.451\n",
            "Time:                        11:50:13   BIC                          19242.629\n",
            "Sample:                             0   HQIC                         19231.718\n",
            "                                                                              \n",
            "===============================================================================\n",
            "                  coef    std err          z      P>|z|      [0.025      0.975]\n",
            "-------------------------------------------------------------------------------\n",
            "const        1686.5102    331.108      5.094      0.000    1037.550    2335.470\n",
            "ar.L1.price     0.9993      0.001   1575.460      0.000       0.998       1.001\n",
            "                                    Roots                                    \n",
            "=============================================================================\n",
            "                  Real          Imaginary           Modulus         Frequency\n",
            "-----------------------------------------------------------------------------\n",
            "AR.1            1.0007           +0.0000j            1.0007            0.0000\n",
            "-----------------------------------------------------------------------------\n",
            "Residuals Description\n",
            "count    2267.000000\n",
            "mean        0.123387\n",
            "std        17.493392\n",
            "min      -239.350202\n",
            "25%        -7.089776\n",
            "50%         0.744516\n",
            "75%         8.817798\n",
            "max       103.560047\n",
            "dtype: float64\n"
          ],
          "name": "stdout"
        }
      ]
    },
    {
      "cell_type": "code",
      "metadata": {
        "id": "vdhUhippJ52x",
        "colab": {
          "base_uri": "https://localhost:8080/",
          "height": 635
        },
        "outputId": "53185917-4198-456c-8642-dfae4a634a67"
      },
      "source": [
        "from statsmodels.tsa.arima_model import ARIMA\n",
        "model = ARIMA(sp_data.price, order=(1,0,1))\n",
        "model_fit = model.fit(disp=0)\n",
        "print(model_fit.summary())\n",
        "print('Residuals Description')\n",
        "print(model_fit.resid.describe())"
      ],
      "execution_count": null,
      "outputs": [
        {
          "output_type": "stream",
          "text": [
            "/usr/local/lib/python3.6/dist-packages/statsmodels/tsa/base/tsa_model.py:219: ValueWarning: A date index has been provided, but it has no associated frequency information and so will be ignored when e.g. forecasting.\n",
            "  ' ignored when e.g. forecasting.', ValueWarning)\n"
          ],
          "name": "stderr"
        },
        {
          "output_type": "stream",
          "text": [
            "                              ARMA Model Results                              \n",
            "==============================================================================\n",
            "Dep. Variable:                  price   No. Observations:                 2267\n",
            "Model:                     ARMA(1, 1)   Log Likelihood               -9603.247\n",
            "Method:                       css-mle   S.D. of innovations             16.705\n",
            "Date:                Mon, 03 Aug 2020   AIC                          19214.494\n",
            "Time:                        11:50:14   BIC                          19237.399\n",
            "Sample:                             0   HQIC                         19222.851\n",
            "                                                                              \n",
            "===============================================================================\n",
            "                  coef    std err          z      P>|z|      [0.025      0.975]\n",
            "-------------------------------------------------------------------------------\n",
            "const        1707.4357    344.649      4.954      0.000    1031.935    2382.936\n",
            "ar.L1.price     0.9994      0.001   1780.215      0.000       0.998       1.000\n",
            "ma.L1.price    -0.0787      0.022     -3.614      0.000      -0.121      -0.036\n",
            "                                    Roots                                    \n",
            "=============================================================================\n",
            "                  Real          Imaginary           Modulus         Frequency\n",
            "-----------------------------------------------------------------------------\n",
            "AR.1            1.0006           +0.0000j            1.0006            0.0000\n",
            "MA.1           12.7139           +0.0000j           12.7139            0.0000\n",
            "-----------------------------------------------------------------------------\n",
            "Residuals Description\n",
            "count    2267.000000\n",
            "mean        0.140356\n",
            "std        17.578967\n",
            "min      -260.275689\n",
            "25%        -7.062054\n",
            "50%         1.026887\n",
            "75%         8.741181\n",
            "max       102.280341\n",
            "dtype: float64\n"
          ],
          "name": "stdout"
        }
      ]
    },
    {
      "cell_type": "code",
      "metadata": {
        "id": "kXN7oQFqJ8gp",
        "colab": {
          "base_uri": "https://localhost:8080/",
          "height": 671
        },
        "outputId": "6bc3ae0c-dbe6-4208-e5e6-8f078b9130e0"
      },
      "source": [
        "from statsmodels.tsa.arima_model import ARIMA\n",
        "model_111 = ARIMA(sp_data.price, order=(1,1,1))\n",
        "model_111_fit = model_111.fit()\n",
        "print(model_111_fit.summary())\n",
        "print('Residuals Description')\n",
        "print(model_111_fit.resid.describe())"
      ],
      "execution_count": null,
      "outputs": [
        {
          "output_type": "stream",
          "text": [
            "/usr/local/lib/python3.6/dist-packages/statsmodels/tsa/base/tsa_model.py:219: ValueWarning: A date index has been provided, but it has no associated frequency information and so will be ignored when e.g. forecasting.\n",
            "  ' ignored when e.g. forecasting.', ValueWarning)\n",
            "/usr/local/lib/python3.6/dist-packages/statsmodels/tsa/base/tsa_model.py:219: ValueWarning: A date index has been provided, but it has no associated frequency information and so will be ignored when e.g. forecasting.\n",
            "  ' ignored when e.g. forecasting.', ValueWarning)\n"
          ],
          "name": "stderr"
        },
        {
          "output_type": "stream",
          "text": [
            "                             ARIMA Model Results                              \n",
            "==============================================================================\n",
            "Dep. Variable:                D.price   No. Observations:                 2266\n",
            "Model:                 ARIMA(1, 1, 1)   Log Likelihood               -9592.974\n",
            "Method:                       css-mle   S.D. of innovations             16.685\n",
            "Date:                Mon, 03 Aug 2020   AIC                          19193.947\n",
            "Time:                        11:50:14   BIC                          19216.850\n",
            "Sample:                             1   HQIC                         19202.304\n",
            "                                                                              \n",
            "=================================================================================\n",
            "                    coef    std err          z      P>|z|      [0.025      0.975]\n",
            "---------------------------------------------------------------------------------\n",
            "const             0.3529      0.289      1.222      0.222      -0.213       0.919\n",
            "ar.L1.D.price     0.5832      0.155      3.765      0.000       0.280       0.887\n",
            "ma.L1.D.price    -0.6565      0.144     -4.559      0.000      -0.939      -0.374\n",
            "                                    Roots                                    \n",
            "=============================================================================\n",
            "                  Real          Imaginary           Modulus         Frequency\n",
            "-----------------------------------------------------------------------------\n",
            "AR.1            1.7147           +0.0000j            1.7147            0.0000\n",
            "MA.1            1.5232           +0.0000j            1.5232            0.0000\n",
            "-----------------------------------------------------------------------------\n",
            "Residuals Description\n",
            "count    2266.000000\n",
            "mean       -0.002487\n",
            "std        16.688544\n",
            "min      -106.294400\n",
            "25%        -7.452397\n",
            "50%         1.039101\n",
            "75%         8.708535\n",
            "max        96.668744\n",
            "dtype: float64\n"
          ],
          "name": "stdout"
        }
      ]
    },
    {
      "cell_type": "code",
      "metadata": {
        "id": "WM6luPMnJ-1E",
        "colab": {
          "base_uri": "https://localhost:8080/",
          "height": 1000
        },
        "outputId": "a3468a1e-f85f-49a9-d2b3-23b23aaa74bc"
      },
      "source": [
        "from statsmodels.tsa.arima_model import ARIMA\n",
        "model = ARIMA(sp_data.price, order=(5,1,5))\n",
        "model_fit = model.fit()\n",
        "print(model_fit.summary())\n",
        "print('Residuals Description')\n",
        "print(model_fit.resid.describe())"
      ],
      "execution_count": null,
      "outputs": [
        {
          "output_type": "stream",
          "text": [
            "/usr/local/lib/python3.6/dist-packages/statsmodels/tsa/base/tsa_model.py:219: ValueWarning: A date index has been provided, but it has no associated frequency information and so will be ignored when e.g. forecasting.\n",
            "  ' ignored when e.g. forecasting.', ValueWarning)\n",
            "/usr/local/lib/python3.6/dist-packages/statsmodels/tsa/base/tsa_model.py:219: ValueWarning: A date index has been provided, but it has no associated frequency information and so will be ignored when e.g. forecasting.\n",
            "  ' ignored when e.g. forecasting.', ValueWarning)\n",
            "/usr/local/lib/python3.6/dist-packages/statsmodels/base/model.py:492: HessianInversionWarning: Inverting hessian failed, no bse or cov_params available\n",
            "  'available', HessianInversionWarning)\n",
            "/usr/local/lib/python3.6/dist-packages/statsmodels/base/model.py:512: ConvergenceWarning: Maximum Likelihood optimization failed to converge. Check mle_retvals\n",
            "  \"Check mle_retvals\", ConvergenceWarning)\n"
          ],
          "name": "stderr"
        },
        {
          "output_type": "stream",
          "text": [
            "                             ARIMA Model Results                              \n",
            "==============================================================================\n",
            "Dep. Variable:                D.price   No. Observations:                 2266\n",
            "Model:                 ARIMA(5, 1, 5)   Log Likelihood               -9588.770\n",
            "Method:                       css-mle   S.D. of innovations             16.629\n",
            "Date:                Mon, 03 Aug 2020   AIC                          19201.540\n",
            "Time:                        11:50:49   BIC                          19270.250\n",
            "Sample:                             1   HQIC                         19226.610\n",
            "                                                                              \n",
            "=================================================================================\n",
            "                    coef    std err          z      P>|z|      [0.025      0.975]\n",
            "---------------------------------------------------------------------------------\n",
            "const             0.3539      0.291      1.218      0.223      -0.215       0.923\n",
            "ar.L1.D.price    -0.8386      0.165     -5.071      0.000      -1.163      -0.514\n",
            "ar.L2.D.price    -0.4547      0.235     -1.937      0.053      -0.915       0.005\n",
            "ar.L3.D.price    -0.6800      0.211     -3.227      0.001      -1.093      -0.267\n",
            "ar.L4.D.price    -0.1777      0.234     -0.759      0.448      -0.637       0.281\n",
            "ar.L5.D.price     0.5723      0.165      3.478      0.001       0.250       0.895\n",
            "ma.L1.D.price     0.7659      0.155      4.930      0.000       0.461       1.070\n",
            "ma.L2.D.price     0.3508      0.220      1.597      0.111      -0.080       0.782\n",
            "ma.L3.D.price     0.5924      0.197      3.012      0.003       0.207       0.978\n",
            "ma.L4.D.price     0.0832      0.219      0.379      0.705      -0.347       0.513\n",
            "ma.L5.D.price    -0.6483      0.155     -4.177      0.000      -0.952      -0.344\n",
            "                                    Roots                                    \n",
            "=============================================================================\n",
            "                  Real          Imaginary           Modulus         Frequency\n",
            "-----------------------------------------------------------------------------\n",
            "AR.1           -0.9113           -0.4180j            1.0026           -0.4316\n",
            "AR.2           -0.9113           +0.4180j            1.0026            0.4316\n",
            "AR.3            0.1995           -0.9811j            1.0012           -0.2181\n",
            "AR.4            0.1995           +0.9811j            1.0012            0.2181\n",
            "AR.5            1.7341           -0.0000j            1.7341           -0.0000\n",
            "MA.1           -0.9086           -0.4177j            1.0000           -0.4314\n",
            "MA.2           -0.9086           +0.4177j            1.0000            0.4314\n",
            "MA.3            0.2015           -0.9795j            1.0000           -0.2177\n",
            "MA.4            0.2015           +0.9795j            1.0000            0.2177\n",
            "MA.5            1.5425           -0.0000j            1.5425           -0.0000\n",
            "-----------------------------------------------------------------------------\n",
            "Residuals Description\n",
            "count    2266.000000\n",
            "mean       -0.004586\n",
            "std        16.661983\n",
            "min      -105.431564\n",
            "25%        -7.615615\n",
            "50%         0.897541\n",
            "75%         8.882836\n",
            "max        94.343531\n",
            "dtype: float64\n"
          ],
          "name": "stdout"
        }
      ]
    },
    {
      "cell_type": "code",
      "metadata": {
        "id": "qAdvH-y4J_Rj",
        "colab": {
          "base_uri": "https://localhost:8080/",
          "height": 567
        },
        "outputId": "bb3c5b1e-4bdd-487e-abb0-1b111b20671f"
      },
      "source": [
        "residuals = pd.DataFrame(model_111_fit.resid)\n",
        "\n",
        "residuals.plot(legend=False)\n",
        "plt.title('Time Series of Residuals')\n",
        "\n",
        "residuals.hist(bins=20)\n",
        "plt.title('Histogram of Residuals')"
      ],
      "execution_count": null,
      "outputs": [
        {
          "output_type": "execute_result",
          "data": {
            "text/plain": [
              "Text(0.5, 1.0, 'Histogram of Residuals')"
            ]
          },
          "metadata": {
            "tags": []
          },
          "execution_count": 14
        },
        {
          "output_type": "display_data",
          "data": {
            "image/png": "[encoded data removed]",
            "text/plain": [
              "<Figure size 432x288 with 1 Axes>"
            ]
          },
          "metadata": {
            "tags": [],
            "needs_background": "light"
          }
        },
        {
          "output_type": "display_data",
          "data": {
            "image/png": "[encoded data removed]",
            "text/plain": [
              "<Figure size 432x288 with 1 Axes>"
            ]
          },
          "metadata": {
            "tags": [],
            "needs_background": "light"
          }
        }
      ]
    },
    {
      "cell_type": "code",
      "metadata": {
        "id": "7aAJj4V4KB-M"
      },
      "source": [
        ""
      ],
      "execution_count": null,
      "outputs": []
    }
  ]
}