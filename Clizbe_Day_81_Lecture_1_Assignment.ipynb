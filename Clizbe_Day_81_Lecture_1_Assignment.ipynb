{
  "nbformat": 4,
  "nbformat_minor": 0,
  "metadata": {
    "kernelspec": {
      "display_name": "Python 3",
      "language": "python",
      "name": "python3"
    },
    "language_info": {
      "codemirror_mode": {
        "name": "ipython",
        "version": 3
      },
      "file_extension": ".py",
      "mimetype": "text/x-python",
      "name": "python",
      "nbconvert_exporter": "python",
      "pygments_lexer": "ipython3",
      "version": "3.7.0"
    },
    "colab": {
      "name": "Clizbe Day 81 Lecture 1 Assignment.ipynb",
      "provenance": [],
      "collapsed_sections": [],
      "include_colab_link": true
    }
  },
  "cells": [
    {
      "cell_type": "markdown",
      "metadata": {
        "id": "view-in-github",
        "colab_type": "text"
      },
      "source": [
        "<a href=\"https://colab.research.google.com/github/davidclizbe/datascience/blob/master/Clizbe_Day_81_Lecture_1_Assignment.ipynb\" target=\"_parent\"><img src=\"https://colab.research.google.com/assets/colab-badge.svg\" alt=\"Open In Colab\"/></a>"
      ]
    },
    {
      "cell_type": "markdown",
      "metadata": {
        "id": "087S2B-zux_6"
      },
      "source": [
        "## Day 76 Lecture 1 Assignment\n",
        "\n",
        "In this assignment, we will learn about the Dask library. We will use a json file containing the novel War and Peace loaded below and analyze the text."
      ]
    },
    {
      "cell_type": "code",
      "metadata": {
        "id": "VnDpO_Af-Bcx"
      },
      "source": [
        "import dask.bag as db\n",
        "import json"
      ],
      "execution_count": null,
      "outputs": []
    },
    {
      "cell_type": "code",
      "metadata": {
        "id": "rCI9ZRNG9Qhu",
        "colab": {
          "base_uri": "https://localhost:8080/",
          "height": 55
        },
        "outputId": "82982991-54f7-48e6-d5c4-27854b1247a9"
      },
      "source": [
        "from google.colab import drive\n",
        "drive.mount('/content/drive')"
      ],
      "execution_count": null,
      "outputs": [
        {
          "output_type": "stream",
          "text": [
            "Drive already mounted at /content/drive; to attempt to forcibly remount, call drive.mount(\"/content/drive\", force_remount=True).\n"
          ],
          "name": "stdout"
        }
      ]
    },
    {
      "cell_type": "code",
      "metadata": {
        "id": "IYIQ_BxAux_7",
        "colab": {
          "base_uri": "https://localhost:8080/",
          "height": 35
        },
        "outputId": "202ec0ef-7c17-491c-c7ec-b7fbebb39851"
      },
      "source": [
        "import dask.bag as db\n",
        "import json\n",
        "\n",
        "tolstoy = db.read_text('/content/drive/My Drive/Data/2600-0.txt')\n",
        "tolstoy"
      ],
      "execution_count": null,
      "outputs": [
        {
          "output_type": "execute_result",
          "data": {
            "text/plain": [
              "dask.bag<bag-from-delayed, npartitions=1>"
            ]
          },
          "metadata": {
            "tags": []
          },
          "execution_count": 10
        }
      ]
    },
    {
      "cell_type": "markdown",
      "metadata": {
        "id": "WBxjwKSnux_-"
      },
      "source": [
        "Above, we have loaded the novel War and Peace by Tolstoy into a Dask bag. Print the first 10 rows in the novel using the Dask bag."
      ]
    },
    {
      "cell_type": "code",
      "metadata": {
        "id": "iaIoIkW25DKu",
        "colab": {
          "base_uri": "https://localhost:8080/",
          "height": 193
        },
        "outputId": "b0bd3e1b-96c6-46da-f6a8-c49cb2775be6"
      },
      "source": [
        "tolstoy.take(10)"
      ],
      "execution_count": null,
      "outputs": [
        {
          "output_type": "execute_result",
          "data": {
            "text/plain": [
              "('\\ufeffBOOK ONE: 1805\\n',\n",
              " '\\n',\n",
              " '\\n',\n",
              " '\\n',\n",
              " '\\n',\n",
              " '\\n',\n",
              " 'CHAPTER I\\n',\n",
              " '\\n',\n",
              " '“Well, Prince, so Genoa and Lucca are now just family estates of the\\n',\n",
              " 'Buonapartes. But I warn you, if you don’t tell me that this means war,\\n')"
            ]
          },
          "metadata": {
            "tags": []
          },
          "execution_count": 13
        }
      ]
    },
    {
      "cell_type": "markdown",
      "metadata": {
        "id": "uN65kINLuyAB"
      },
      "source": [
        "You may notice that there are many blank rows (rows containing only `\\n`) Filter these rows and print the first 10 non blank rows in the novel."
      ]
    },
    {
      "cell_type": "code",
      "metadata": {
        "id": "keotvpYPBRRd"
      },
      "source": [
        "tolstoy_filtered = tolstoy.filter(lambda record:record != '\\n' )"
      ],
      "execution_count": null,
      "outputs": []
    },
    {
      "cell_type": "code",
      "metadata": {
        "id": "jGlMSK5suyAC",
        "colab": {
          "base_uri": "https://localhost:8080/",
          "height": 193
        },
        "outputId": "3b276eb5-9fdd-4c41-be44-af7b3470b810"
      },
      "source": [
        "#Answer below:\n",
        "tolstoy_filtered.take(10)\n"
      ],
      "execution_count": null,
      "outputs": [
        {
          "output_type": "execute_result",
          "data": {
            "text/plain": [
              "('\\ufeffBOOK ONE: 1805\\n',\n",
              " 'CHAPTER I\\n',\n",
              " '“Well, Prince, so Genoa and Lucca are now just family estates of the\\n',\n",
              " 'Buonapartes. But I warn you, if you don’t tell me that this means war,\\n',\n",
              " 'if you still try to defend the infamies and horrors perpetrated by that\\n',\n",
              " 'Antichrist—I really believe he is Antichrist—I will have nothing\\n',\n",
              " 'more to do with you and you are no longer my friend, no longer my\\n',\n",
              " '‘faithful slave,’ as you call yourself! But how do you do? I see I\\n',\n",
              " 'have frightened you—sit down and tell me all the news.”\\n',\n",
              " 'It was in July, 1805, and the speaker was the well-known Anna Pávlovna\\n')"
            ]
          },
          "metadata": {
            "tags": []
          },
          "execution_count": 26
        }
      ]
    },
    {
      "cell_type": "markdown",
      "metadata": {
        "id": "kjIeJ8ZFuyAD"
      },
      "source": [
        "We would like to count the frequency of all words in the novel. The first step is to remove the `\\n` from the end of each string. Do this using the map function. Inside the map function write a lambda that will replace the string `\\n` with `''`."
      ]
    },
    {
      "cell_type": "code",
      "metadata": {
        "id": "1dc_U9G0ETq2"
      },
      "source": [
        "tolstoy_cleaned = tolstoy_filtered.map(lambda x: x.replace('\\n', ''))"
      ],
      "execution_count": null,
      "outputs": []
    },
    {
      "cell_type": "code",
      "metadata": {
        "id": "bGaXglIsuyAE",
        "colab": {
          "base_uri": "https://localhost:8080/",
          "height": 35
        },
        "outputId": "3e911d8b-eb72-4d6d-b672-1ea54630665c"
      },
      "source": [
        "#Answer below:\n",
        "\n",
        "tolstoy_cleaned.count().compute()  # Count total number of records"
      ],
      "execution_count": null,
      "outputs": [
        {
          "output_type": "execute_result",
          "data": {
            "text/plain": [
              "65219"
            ]
          },
          "metadata": {
            "tags": []
          },
          "execution_count": 42
        }
      ]
    },
    {
      "cell_type": "markdown",
      "metadata": {
        "id": "JIA08wDYuyAF"
      },
      "source": [
        "Next, split each row on the space (use a lambda function inside a map). Then apply the flatten function to create a list of all words in the novel."
      ]
    },
    {
      "cell_type": "code",
      "metadata": {
        "id": "cqjprCyYuyAG",
        "colab": {
          "base_uri": "https://localhost:8080/",
          "height": 35
        },
        "outputId": "53a20ce8-3c51-444f-8f6d-9e7e3a6be5f2"
      },
      "source": [
        "split_tolstoy_cleaned = tolstoy_cleaned.map(lambda x: x.split(' ')).flatten()\n",
        "split_tolstoy_cleaned"
      ],
      "execution_count": null,
      "outputs": [
        {
          "output_type": "execute_result",
          "data": {
            "text/plain": [
              "dask.bag<flatten, npartitions=1>"
            ]
          },
          "metadata": {
            "tags": []
          },
          "execution_count": 47
        }
      ]
    },
    {
      "cell_type": "code",
      "metadata": {
        "id": "SVuT88RgDyJU",
        "colab": {
          "base_uri": "https://localhost:8080/",
          "height": 369
        },
        "outputId": "395d30ae-0ff7-4d37-fedf-cfcee502113e"
      },
      "source": [
        "split_tolstoy_cleaned.take(20)"
      ],
      "execution_count": null,
      "outputs": [
        {
          "output_type": "execute_result",
          "data": {
            "text/plain": [
              "('\\ufeffBOOK',\n",
              " 'ONE:',\n",
              " '1805',\n",
              " '',\n",
              " '',\n",
              " '',\n",
              " '',\n",
              " '',\n",
              " 'CHAPTER',\n",
              " 'I',\n",
              " '',\n",
              " '“Well,',\n",
              " 'Prince,',\n",
              " 'so',\n",
              " 'Genoa',\n",
              " 'and',\n",
              " 'Lucca',\n",
              " 'are',\n",
              " 'now',\n",
              " 'just')"
            ]
          },
          "metadata": {
            "tags": []
          },
          "execution_count": 48
        }
      ]
    },
    {
      "cell_type": "markdown",
      "metadata": {
        "id": "iK5V5L12uyAI"
      },
      "source": [
        "Using the frequencies function, return the top 10 words in the novel and their frequency"
      ]
    },
    {
      "cell_type": "code",
      "metadata": {
        "id": "t7MmamNDF066",
        "colab": {
          "base_uri": "https://localhost:8080/",
          "height": 193
        },
        "outputId": "41a5bb34-4ac2-4979-b88b-ad902fa09743"
      },
      "source": [
        "split_tolstoy_cleaned.frequencies(sort=True).topk(10, key = 1).compute()"
      ],
      "execution_count": null,
      "outputs": [
        {
          "output_type": "execute_result",
          "data": {
            "text/plain": [
              "[('the', 31701),\n",
              " ('and', 20559),\n",
              " ('to', 16320),\n",
              " ('of', 14852),\n",
              " ('', 14800),\n",
              " ('a', 10018),\n",
              " ('in', 8228),\n",
              " ('he', 7631),\n",
              " ('his', 7630),\n",
              " ('that', 7230)]"
            ]
          },
          "metadata": {
            "tags": []
          },
          "execution_count": 50
        }
      ]
    }
  ]
}