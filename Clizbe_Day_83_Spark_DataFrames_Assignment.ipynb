{
  "nbformat": 4,
  "nbformat_minor": 0,
  "metadata": {
    "colab": {
      "name": "Clizbe Day_83_Spark_DataFrames_Assignment.ipynb",
      "provenance": [],
      "collapsed_sections": [],
      "include_colab_link": true
    },
    "kernelspec": {
      "name": "python3",
      "display_name": "Python 3"
    }
  },
  "cells": [
    {
      "cell_type": "markdown",
      "metadata": {
        "id": "view-in-github",
        "colab_type": "text"
      },
      "source": [
        "<a href=\"https://colab.research.google.com/github/davidclizbe/datascience/blob/master/Clizbe_Day_83_Spark_DataFrames_Assignment.ipynb\" target=\"_parent\"><img src=\"https://colab.research.google.com/assets/colab-badge.svg\" alt=\"Open In Colab\"/></a>"
      ]
    },
    {
      "cell_type": "markdown",
      "metadata": {
        "id": "Ry4VDk_llCLY"
      },
      "source": [
        "## Day 83 Lecture 1 Assignment\n",
        "\n",
        "In this assignment, we will learn about working in Spark.\n"
      ]
    },
    {
      "cell_type": "markdown",
      "metadata": {
        "id": "Pt0hltnjnrSZ"
      },
      "source": [
        "First update Google Compute."
      ]
    },
    {
      "cell_type": "code",
      "metadata": {
        "id": "QeM_ZK0ARu4y",
        "colab": {
          "base_uri": "https://localhost:8080/",
          "height": 246
        },
        "outputId": "7e738e5e-0b0d-44a8-902e-9793642db8a2"
      },
      "source": [
        "!apt-get update"
      ],
      "execution_count": null,
      "outputs": [
        {
          "output_type": "stream",
          "text": [
            "\r0% [Working]\r            \rGet:1 http://security.ubuntu.com/ubuntu bionic-security InRelease [88.7 kB]\n",
            "\r0% [Connecting to archive.ubuntu.com (91.189.88.142)] [1 InRelease 14.2 kB/88.7\r                                                                               \rIgn:2 https://developer.download.nvidia.com/compute/cuda/repos/ubuntu1804/x86_64  InRelease\n",
            "\r0% [Waiting for headers] [1 InRelease 43.1 kB/88.7 kB 49%] [Connecting to cloud\r0% [Waiting for headers] [Connecting to cloud.r-project.org] [Waiting for heade\r0% [1 InRelease gpgv 88.7 kB] [Waiting for headers] [Connecting to cloud.r-proj\r                                                                               \rHit:3 http://ppa.launchpad.net/graphics-drivers/ppa/ubuntu bionic InRelease\n",
            "\r0% [1 InRelease gpgv 88.7 kB] [Waiting for headers] [Connecting to cloud.r-proj\r                                                                               \rIgn:4 https://developer.download.nvidia.com/compute/machine-learning/repos/ubuntu1804/x86_64  InRelease\n",
            "\r0% [1 InRelease gpgv 88.7 kB] [Waiting for headers] [Connecting to cloud.r-proj\r                                                                               \rHit:5 https://developer.download.nvidia.com/compute/cuda/repos/ubuntu1804/x86_64  Release\n",
            "\r0% [1 InRelease gpgv 88.7 kB] [Waiting for headers] [Connecting to cloud.r-proj\r                                                                               \rHit:6 http://archive.ubuntu.com/ubuntu bionic InRelease\n",
            "Hit:7 https://developer.download.nvidia.com/compute/machine-learning/repos/ubuntu1804/x86_64  Release\n",
            "Hit:8 http://archive.ubuntu.com/ubuntu bionic-updates InRelease\n",
            "Hit:9 http://ppa.launchpad.net/marutter/c2d4u3.5/ubuntu bionic InRelease\n",
            "Get:10 http://archive.ubuntu.com/ubuntu bionic-backports InRelease [74.6 kB]\n",
            "Hit:13 https://cloud.r-project.org/bin/linux/ubuntu bionic-cran35/ InRelease\n",
            "Fetched 163 kB in 2s (74.2 kB/s)\n",
            "Reading package lists... Done\n"
          ],
          "name": "stdout"
        }
      ]
    },
    {
      "cell_type": "markdown",
      "metadata": {
        "id": "Q5voJffBnwcm"
      },
      "source": [
        "Start a Spark session, by installing the necessary pieces."
      ]
    },
    {
      "cell_type": "code",
      "metadata": {
        "id": "wen6A2I2RYVV"
      },
      "source": [
        "!apt-get install openjdk-8-jdk-headless -qq > /dev/null\n",
        "!wget -q https://www-eu.apache.org/dist/spark/spark-2.4.6/spark-2.4.6-bin-hadoop2.7.tgz\n",
        "!tar xf spark-2.4.6-bin-hadoop2.7.tgz"
      ],
      "execution_count": null,
      "outputs": []
    },
    {
      "cell_type": "markdown",
      "metadata": {
        "id": "zm3pHHHxNmkW"
      },
      "source": [
        "Set up the environmental variables."
      ]
    },
    {
      "cell_type": "code",
      "metadata": {
        "id": "VW40H37fIb0t"
      },
      "source": [
        "import os\n",
        "os.environ[\"JAVA_HOME\"] = \"/usr/lib/jvm/java-8-openjdk-amd64\"\n",
        "os.environ[\"SPARK_HOME\"] = \"/content/spark-2.4.6-bin-hadoop2.7\""
      ],
      "execution_count": null,
      "outputs": []
    },
    {
      "cell_type": "markdown",
      "metadata": {
        "id": "1vdAA2aoNqhz"
      },
      "source": [
        "Install Pyspark. ***Note: The version must match the version of Spark that you have installed earlier***."
      ]
    },
    {
      "cell_type": "code",
      "metadata": {
        "id": "274gUgKyIjnC",
        "colab": {
          "base_uri": "https://localhost:8080/",
          "height": 52
        },
        "outputId": "5ec431b9-369c-4ff1-a3f4-442465c1037c"
      },
      "source": [
        "!pip install -q findspark\n",
        "!pip install pyspark==2.4.6"
      ],
      "execution_count": null,
      "outputs": [
        {
          "output_type": "stream",
          "text": [
            "Requirement already satisfied: pyspark==2.4.6 in /usr/local/lib/python3.6/dist-packages (2.4.6)\n",
            "Requirement already satisfied: py4j==0.10.7 in /usr/local/lib/python3.6/dist-packages (from pyspark==2.4.6) (0.10.7)\n"
          ],
          "name": "stdout"
        }
      ]
    },
    {
      "cell_type": "markdown",
      "metadata": {
        "id": "AtsLvt2JlI7X"
      },
      "source": [
        "Download and save the video games sales CSV file to your Colab Data folder on Google Drive. \n",
        "\n",
        "The file can be downloaded from link [here](https://tf-assets-prod.s3.amazonaws.com/tf-curric/data-science/Data%20Sets%20Big%20Data/Video_Games_Sales_as_at_22_Dec_2016.csv), download it and save it to your Google Colab Data folder on gdrive.\n"
      ]
    },
    {
      "cell_type": "code",
      "metadata": {
        "id": "qFdGac4wSSZ-",
        "colab": {
          "base_uri": "https://localhost:8080/",
          "height": 35
        },
        "outputId": "b7a5ebe6-737d-4599-d5fd-79d6b327d508"
      },
      "source": [
        "from google.colab import drive\n",
        "drive.mount('/content/drive')"
      ],
      "execution_count": null,
      "outputs": [
        {
          "output_type": "stream",
          "text": [
            "Drive already mounted at /content/drive; to attempt to forcibly remount, call drive.mount(\"/content/drive\", force_remount=True).\n"
          ],
          "name": "stdout"
        }
      ]
    },
    {
      "cell_type": "markdown",
      "metadata": {
        "id": "M1TXjLAWN3Wd"
      },
      "source": [
        "Mount your Google drive for access in Google Colab Notebooks."
      ]
    },
    {
      "cell_type": "markdown",
      "metadata": {
        "id": "aIuuMcVvPH9l"
      },
      "source": [
        "Change your directory to the Colab Data folder where you saved the CSV file."
      ]
    },
    {
      "cell_type": "code",
      "metadata": {
        "id": "X8_ke5oAkBU6"
      },
      "source": [
        "os.chdir('/content/drive/My Drive/Data')"
      ],
      "execution_count": null,
      "outputs": []
    },
    {
      "cell_type": "markdown",
      "metadata": {
        "id": "hcU6yqpgO_of"
      },
      "source": [
        "Set your local session."
      ]
    },
    {
      "cell_type": "code",
      "metadata": {
        "id": "BRiTkZyDebpj"
      },
      "source": [
        "APP_NAME = \"Day83\"\n",
        "SPARK_URL = \"local[*]\""
      ],
      "execution_count": null,
      "outputs": []
    },
    {
      "cell_type": "markdown",
      "metadata": {
        "id": "wnab97jBn7kS"
      },
      "source": [
        "Print the files in your working directory to check for the Video games data CSV."
      ]
    },
    {
      "cell_type": "code",
      "metadata": {
        "id": "qgeAOVj2SXFT"
      },
      "source": [
        "#Answer below:"
      ],
      "execution_count": null,
      "outputs": []
    },
    {
      "cell_type": "code",
      "metadata": {
        "id": "UnwbVoRKSipS",
        "colab": {
          "base_uri": "https://localhost:8080/",
          "height": 35
        },
        "outputId": "15ae06d9-da6d-4727-8b9f-23139c9e6ca2"
      },
      "source": [
        "os.getcwd()"
      ],
      "execution_count": null,
      "outputs": [
        {
          "output_type": "execute_result",
          "data": {
            "application/vnd.google.colaboratory.intrinsic+json": {
              "type": "string"
            },
            "text/plain": [
              "'/content/drive/My Drive/Data'"
            ]
          },
          "metadata": {
            "tags": []
          },
          "execution_count": 9
        }
      ]
    },
    {
      "cell_type": "markdown",
      "metadata": {
        "id": "GIWPcl0PoXsv"
      },
      "source": [
        "Start the Spark Session."
      ]
    },
    {
      "cell_type": "code",
      "metadata": {
        "id": "flNZrdlNDuas"
      },
      "source": [
        "from pyspark.sql import SparkSession\n",
        "spark = SparkSession.builder.appName(APP_NAME).getOrCreate()"
      ],
      "execution_count": null,
      "outputs": []
    },
    {
      "cell_type": "markdown",
      "metadata": {
        "id": "yo2CIL4XPRzn"
      },
      "source": [
        "Load the CSV file as a Spark dataframe."
      ]
    },
    {
      "cell_type": "code",
      "metadata": {
        "id": "wvrsUPFKUgWJ"
      },
      "source": [
        "video = spark.read.format(\"csv\").option(\"header\", \"true\").option(\"inferSchema\", \"true\").load(\"Video_Games_Sales_as_at_22_Dec_2016.csv\")"
      ],
      "execution_count": null,
      "outputs": []
    },
    {
      "cell_type": "markdown",
      "metadata": {
        "id": "j1OiHvakqnM1"
      },
      "source": [
        "Review the data by applying the show command."
      ]
    },
    {
      "cell_type": "code",
      "metadata": {
        "id": "0yzV32sgqidJ",
        "colab": {
          "base_uri": "https://localhost:8080/",
          "height": 495
        },
        "outputId": "21d6885c-56cd-4d5c-fc96-8c1bee05103c"
      },
      "source": [
        "video.show()"
      ],
      "execution_count": null,
      "outputs": [
        {
          "output_type": "stream",
          "text": [
            "+--------------------+--------+---------------+------------+--------------------+--------+--------+--------+-----------+------------+------------+------------+----------+----------+-------------------+------+\n",
            "|                Name|Platform|Year_of_Release|       Genre|           Publisher|NA_Sales|EU_Sales|JP_Sales|Other_Sales|Global_Sales|Critic_Score|Critic_Count|User_Score|User_Count|          Developer|Rating|\n",
            "+--------------------+--------+---------------+------------+--------------------+--------+--------+--------+-----------+------------+------------+------------+----------+----------+-------------------+------+\n",
            "|          Wii Sports|     Wii|           2006|      Sports|            Nintendo|   41.36|   28.96|    3.77|       8.45|       82.53|          76|          51|         8|       322|           Nintendo|     E|\n",
            "|   Super Mario Bros.|     NES|           1985|    Platform|            Nintendo|   29.08|    3.58|    6.81|       0.77|       40.24|        null|        null|      null|      null|               null|  null|\n",
            "|      Mario Kart Wii|     Wii|           2008|      Racing|            Nintendo|   15.68|   12.76|    3.79|       3.29|       35.52|          82|          73|       8.3|       709|           Nintendo|     E|\n",
            "|   Wii Sports Resort|     Wii|           2009|      Sports|            Nintendo|   15.61|   10.93|    3.28|       2.95|       32.77|          80|          73|         8|       192|           Nintendo|     E|\n",
            "|Pokemon Red/Pokem...|      GB|           1996|Role-Playing|            Nintendo|   11.27|    8.89|   10.22|        1.0|       31.37|        null|        null|      null|      null|               null|  null|\n",
            "|              Tetris|      GB|           1989|      Puzzle|            Nintendo|    23.2|    2.26|    4.22|       0.58|       30.26|        null|        null|      null|      null|               null|  null|\n",
            "|New Super Mario B...|      DS|           2006|    Platform|            Nintendo|   11.28|    9.14|     6.5|       2.88|        29.8|          89|          65|       8.5|       431|           Nintendo|     E|\n",
            "|            Wii Play|     Wii|           2006|        Misc|            Nintendo|   13.96|    9.18|    2.93|       2.84|       28.92|          58|          41|       6.6|       129|           Nintendo|     E|\n",
            "|New Super Mario B...|     Wii|           2009|    Platform|            Nintendo|   14.44|    6.94|     4.7|       2.24|       28.32|          87|          80|       8.4|       594|           Nintendo|     E|\n",
            "|           Duck Hunt|     NES|           1984|     Shooter|            Nintendo|   26.93|    0.63|    0.28|       0.47|       28.31|        null|        null|      null|      null|               null|  null|\n",
            "|          Nintendogs|      DS|           2005|  Simulation|            Nintendo|    9.05|   10.95|    1.93|       2.74|       24.67|        null|        null|      null|      null|               null|  null|\n",
            "|       Mario Kart DS|      DS|           2005|      Racing|            Nintendo|    9.71|    7.47|    4.13|        1.9|       23.21|          91|          64|       8.6|       464|           Nintendo|     E|\n",
            "|Pokemon Gold/Poke...|      GB|           1999|Role-Playing|            Nintendo|     9.0|    6.18|     7.2|       0.71|        23.1|        null|        null|      null|      null|               null|  null|\n",
            "|             Wii Fit|     Wii|           2007|      Sports|            Nintendo|    8.92|    8.03|     3.6|       2.15|        22.7|          80|          63|       7.7|       146|           Nintendo|     E|\n",
            "|  Kinect Adventures!|    X360|           2010|        Misc|Microsoft Game St...|    15.0|    4.89|    0.24|       1.69|       21.81|          61|          45|       6.3|       106|Good Science Studio|     E|\n",
            "|        Wii Fit Plus|     Wii|           2009|      Sports|            Nintendo|    9.01|    8.49|    2.53|       1.77|       21.79|          80|          33|       7.4|        52|           Nintendo|     E|\n",
            "|  Grand Theft Auto V|     PS3|           2013|      Action|Take-Two Interactive|    7.02|    9.09|    0.98|       3.96|       21.04|          97|          50|       8.2|      3994|     Rockstar North|     M|\n",
            "|Grand Theft Auto:...|     PS2|           2004|      Action|Take-Two Interactive|    9.43|     0.4|    0.41|      10.57|       20.81|          95|          80|         9|      1588|     Rockstar North|     M|\n",
            "|   Super Mario World|    SNES|           1990|    Platform|            Nintendo|   12.78|    3.75|    3.54|       0.55|       20.61|        null|        null|      null|      null|               null|  null|\n",
            "|Brain Age: Train ...|      DS|           2005|        Misc|            Nintendo|    4.74|     9.2|    4.16|       2.04|       20.15|          77|          58|       7.9|        50|           Nintendo|     E|\n",
            "+--------------------+--------+---------------+------------+--------------------+--------+--------+--------+-----------+------------+------------+------------+----------+----------+-------------------+------+\n",
            "only showing top 20 rows\n",
            "\n"
          ],
          "name": "stdout"
        }
      ]
    },
    {
      "cell_type": "markdown",
      "metadata": {
        "id": "YCk7pH12ANe-"
      },
      "source": [
        "Examine the data frame by printing the schema."
      ]
    },
    {
      "cell_type": "code",
      "metadata": {
        "id": "1w9I_FE8AXi-",
        "colab": {
          "base_uri": "https://localhost:8080/",
          "height": 334
        },
        "outputId": "82ca241a-bdba-4b94-d6f7-b5e6b80cfbb0"
      },
      "source": [
        "#Answer below:\n",
        "video.printSchema()"
      ],
      "execution_count": null,
      "outputs": [
        {
          "output_type": "stream",
          "text": [
            "root\n",
            " |-- Name: string (nullable = true)\n",
            " |-- Platform: string (nullable = true)\n",
            " |-- Year_of_Release: string (nullable = true)\n",
            " |-- Genre: string (nullable = true)\n",
            " |-- Publisher: string (nullable = true)\n",
            " |-- NA_Sales: double (nullable = true)\n",
            " |-- EU_Sales: double (nullable = true)\n",
            " |-- JP_Sales: double (nullable = true)\n",
            " |-- Other_Sales: double (nullable = true)\n",
            " |-- Global_Sales: double (nullable = true)\n",
            " |-- Critic_Score: integer (nullable = true)\n",
            " |-- Critic_Count: integer (nullable = true)\n",
            " |-- User_Score: string (nullable = true)\n",
            " |-- User_Count: integer (nullable = true)\n",
            " |-- Developer: string (nullable = true)\n",
            " |-- Rating: string (nullable = true)\n",
            "\n"
          ],
          "name": "stdout"
        }
      ]
    },
    {
      "cell_type": "markdown",
      "metadata": {
        "id": "9cfPxGGuPaDQ"
      },
      "source": [
        "Print the first 10 rows using the take command."
      ]
    },
    {
      "cell_type": "code",
      "metadata": {
        "id": "XOQ-XkjFAkgr",
        "colab": {
          "base_uri": "https://localhost:8080/",
          "height": 213
        },
        "outputId": "28ca8687-d349-4925-987b-0dfc4bd66f34"
      },
      "source": [
        "#Answer below:\n",
        "video.take(10)"
      ],
      "execution_count": null,
      "outputs": [
        {
          "output_type": "execute_result",
          "data": {
            "text/plain": [
              "[Row(Name='Wii Sports', Platform='Wii', Year_of_Release='2006', Genre='Sports', Publisher='Nintendo', NA_Sales=41.36, EU_Sales=28.96, JP_Sales=3.77, Other_Sales=8.45, Global_Sales=82.53, Critic_Score=76, Critic_Count=51, User_Score='8', User_Count=322, Developer='Nintendo', Rating='E'),\n",
              " Row(Name='Super Mario Bros.', Platform='NES', Year_of_Release='1985', Genre='Platform', Publisher='Nintendo', NA_Sales=29.08, EU_Sales=3.58, JP_Sales=6.81, Other_Sales=0.77, Global_Sales=40.24, Critic_Score=None, Critic_Count=None, User_Score=None, User_Count=None, Developer=None, Rating=None),\n",
              " Row(Name='Mario Kart Wii', Platform='Wii', Year_of_Release='2008', Genre='Racing', Publisher='Nintendo', NA_Sales=15.68, EU_Sales=12.76, JP_Sales=3.79, Other_Sales=3.29, Global_Sales=35.52, Critic_Score=82, Critic_Count=73, User_Score='8.3', User_Count=709, Developer='Nintendo', Rating='E'),\n",
              " Row(Name='Wii Sports Resort', Platform='Wii', Year_of_Release='2009', Genre='Sports', Publisher='Nintendo', NA_Sales=15.61, EU_Sales=10.93, JP_Sales=3.28, Other_Sales=2.95, Global_Sales=32.77, Critic_Score=80, Critic_Count=73, User_Score='8', User_Count=192, Developer='Nintendo', Rating='E'),\n",
              " Row(Name='Pokemon Red/Pokemon Blue', Platform='GB', Year_of_Release='1996', Genre='Role-Playing', Publisher='Nintendo', NA_Sales=11.27, EU_Sales=8.89, JP_Sales=10.22, Other_Sales=1.0, Global_Sales=31.37, Critic_Score=None, Critic_Count=None, User_Score=None, User_Count=None, Developer=None, Rating=None),\n",
              " Row(Name='Tetris', Platform='GB', Year_of_Release='1989', Genre='Puzzle', Publisher='Nintendo', NA_Sales=23.2, EU_Sales=2.26, JP_Sales=4.22, Other_Sales=0.58, Global_Sales=30.26, Critic_Score=None, Critic_Count=None, User_Score=None, User_Count=None, Developer=None, Rating=None),\n",
              " Row(Name='New Super Mario Bros.', Platform='DS', Year_of_Release='2006', Genre='Platform', Publisher='Nintendo', NA_Sales=11.28, EU_Sales=9.14, JP_Sales=6.5, Other_Sales=2.88, Global_Sales=29.8, Critic_Score=89, Critic_Count=65, User_Score='8.5', User_Count=431, Developer='Nintendo', Rating='E'),\n",
              " Row(Name='Wii Play', Platform='Wii', Year_of_Release='2006', Genre='Misc', Publisher='Nintendo', NA_Sales=13.96, EU_Sales=9.18, JP_Sales=2.93, Other_Sales=2.84, Global_Sales=28.92, Critic_Score=58, Critic_Count=41, User_Score='6.6', User_Count=129, Developer='Nintendo', Rating='E'),\n",
              " Row(Name='New Super Mario Bros. Wii', Platform='Wii', Year_of_Release='2009', Genre='Platform', Publisher='Nintendo', NA_Sales=14.44, EU_Sales=6.94, JP_Sales=4.7, Other_Sales=2.24, Global_Sales=28.32, Critic_Score=87, Critic_Count=80, User_Score='8.4', User_Count=594, Developer='Nintendo', Rating='E'),\n",
              " Row(Name='Duck Hunt', Platform='NES', Year_of_Release='1984', Genre='Shooter', Publisher='Nintendo', NA_Sales=26.93, EU_Sales=0.63, JP_Sales=0.28, Other_Sales=0.47, Global_Sales=28.31, Critic_Score=None, Critic_Count=None, User_Score=None, User_Count=None, Developer=None, Rating=None)]"
            ]
          },
          "metadata": {
            "tags": []
          },
          "execution_count": 26
        }
      ]
    },
    {
      "cell_type": "markdown",
      "metadata": {
        "id": "5oun0L0I2fmD"
      },
      "source": [
        "Rename the `Global_Sales` column to `Total_Sales`. Renaming a column requires creating a copy of the dataframe with new column name added."
      ]
    },
    {
      "cell_type": "code",
      "metadata": {
        "id": "PeqUWOjl2sGz",
        "colab": {
          "base_uri": "https://localhost:8080/",
          "height": 334
        },
        "outputId": "bfe3237d-3102-4636-cae5-5228044a27e8"
      },
      "source": [
        "#Answer below:\n",
        "video_copy = video.withColumnRenamed('Global_Sales', 'Total_Sales')\n",
        "video_copy.printSchema()"
      ],
      "execution_count": null,
      "outputs": [
        {
          "output_type": "stream",
          "text": [
            "root\n",
            " |-- Name: string (nullable = true)\n",
            " |-- Platform: string (nullable = true)\n",
            " |-- Year_of_Release: string (nullable = true)\n",
            " |-- Genre: string (nullable = true)\n",
            " |-- Publisher: string (nullable = true)\n",
            " |-- NA_Sales: double (nullable = true)\n",
            " |-- EU_Sales: double (nullable = true)\n",
            " |-- JP_Sales: double (nullable = true)\n",
            " |-- Other_Sales: double (nullable = true)\n",
            " |-- Total_Sales: double (nullable = true)\n",
            " |-- Critic_Score: integer (nullable = true)\n",
            " |-- Critic_Count: integer (nullable = true)\n",
            " |-- User_Score: string (nullable = true)\n",
            " |-- User_Count: integer (nullable = true)\n",
            " |-- Developer: string (nullable = true)\n",
            " |-- Rating: string (nullable = true)\n",
            "\n"
          ],
          "name": "stdout"
        }
      ]
    },
    {
      "cell_type": "code",
      "metadata": {
        "id": "tIr4HKYGU4GI"
      },
      "source": [
        ""
      ],
      "execution_count": null,
      "outputs": []
    },
    {
      "cell_type": "markdown",
      "metadata": {
        "id": "dLuG29w-AaeK"
      },
      "source": [
        "Using the literal command, create a new column named `Score_100` by multiplying the `User_Score` column by a constant of 10.\n"
      ]
    },
    {
      "cell_type": "code",
      "metadata": {
        "id": "UyyVO3Ip3w9h",
        "colab": {
          "base_uri": "https://localhost:8080/",
          "height": 319
        },
        "outputId": "376d1062-1434-4193-fd18-4b9cca9738a3"
      },
      "source": [
        "from pyspark.sql.functions import lit\n",
        "\n",
        "#Answer below:\n",
        "video_lit = video.withColumn('Score_100', video_copy['User_Score']*lit(10))\n",
        "video_lit.show(10)"
      ],
      "execution_count": null,
      "outputs": [
        {
          "output_type": "stream",
          "text": [
            "+--------------------+--------+---------------+------------+---------+--------+--------+--------+-----------+------------+------------+------------+----------+----------+---------+------+---------+\n",
            "|                Name|Platform|Year_of_Release|       Genre|Publisher|NA_Sales|EU_Sales|JP_Sales|Other_Sales|Global_Sales|Critic_Score|Critic_Count|User_Score|User_Count|Developer|Rating|Score_100|\n",
            "+--------------------+--------+---------------+------------+---------+--------+--------+--------+-----------+------------+------------+------------+----------+----------+---------+------+---------+\n",
            "|          Wii Sports|     Wii|           2006|      Sports| Nintendo|   41.36|   28.96|    3.77|       8.45|       82.53|          76|          51|         8|       322| Nintendo|     E|     80.0|\n",
            "|   Super Mario Bros.|     NES|           1985|    Platform| Nintendo|   29.08|    3.58|    6.81|       0.77|       40.24|        null|        null|      null|      null|     null|  null|     null|\n",
            "|      Mario Kart Wii|     Wii|           2008|      Racing| Nintendo|   15.68|   12.76|    3.79|       3.29|       35.52|          82|          73|       8.3|       709| Nintendo|     E|     83.0|\n",
            "|   Wii Sports Resort|     Wii|           2009|      Sports| Nintendo|   15.61|   10.93|    3.28|       2.95|       32.77|          80|          73|         8|       192| Nintendo|     E|     80.0|\n",
            "|Pokemon Red/Pokem...|      GB|           1996|Role-Playing| Nintendo|   11.27|    8.89|   10.22|        1.0|       31.37|        null|        null|      null|      null|     null|  null|     null|\n",
            "|              Tetris|      GB|           1989|      Puzzle| Nintendo|    23.2|    2.26|    4.22|       0.58|       30.26|        null|        null|      null|      null|     null|  null|     null|\n",
            "|New Super Mario B...|      DS|           2006|    Platform| Nintendo|   11.28|    9.14|     6.5|       2.88|        29.8|          89|          65|       8.5|       431| Nintendo|     E|     85.0|\n",
            "|            Wii Play|     Wii|           2006|        Misc| Nintendo|   13.96|    9.18|    2.93|       2.84|       28.92|          58|          41|       6.6|       129| Nintendo|     E|     66.0|\n",
            "|New Super Mario B...|     Wii|           2009|    Platform| Nintendo|   14.44|    6.94|     4.7|       2.24|       28.32|          87|          80|       8.4|       594| Nintendo|     E|     84.0|\n",
            "|           Duck Hunt|     NES|           1984|     Shooter| Nintendo|   26.93|    0.63|    0.28|       0.47|       28.31|        null|        null|      null|      null|     null|  null|     null|\n",
            "+--------------------+--------+---------------+------------+---------+--------+--------+--------+-----------+------------+------------+------------+----------+----------+---------+------+---------+\n",
            "only showing top 10 rows\n",
            "\n"
          ],
          "name": "stdout"
        }
      ]
    },
    {
      "cell_type": "markdown",
      "metadata": {
        "id": "K2EVhZqp4uK-"
      },
      "source": [
        "A common data wrangling exercise is to handle the missing values in a dataset. Using a user defined function find the number of missing values per row for the video dataframe."
      ]
    },
    {
      "cell_type": "code",
      "metadata": {
        "id": "o6e5S5hIWHz7"
      },
      "source": [
        "from pyspark.sql.functions import UserDefinedFunction"
      ],
      "execution_count": null,
      "outputs": []
    },
    {
      "cell_type": "code",
      "metadata": {
        "id": "YDArIXxvWLq1",
        "colab": {
          "base_uri": "https://localhost:8080/",
          "height": 132
        },
        "outputId": "01423222-700f-4af6-fc38-fa9a2d288ca5"
      },
      "source": [
        "y=0 \n",
        "is_null_udf = UserDefinedFunction(lambda x: y += 1 if x=='null')\n",
        "video_drop_nulls = is_null_udf(video)"
      ],
      "execution_count": null,
      "outputs": [
        {
          "output_type": "error",
          "ename": "SyntaxError",
          "evalue": "ignored",
          "traceback": [
            "\u001b[0;36m  File \u001b[0;32m\"<ipython-input-36-f69ed2cc9947>\"\u001b[0;36m, line \u001b[0;32m2\u001b[0m\n\u001b[0;31m    is_null_udf = UserDefinedFunction(lambda x: y += 1 if x=='null')\u001b[0m\n\u001b[0m                                                   ^\u001b[0m\n\u001b[0;31mSyntaxError\u001b[0m\u001b[0;31m:\u001b[0m invalid syntax\n"
          ]
        }
      ]
    },
    {
      "cell_type": "code",
      "metadata": {
        "id": "38rh0hhkYnkv"
      },
      "source": [
        ""
      ],
      "execution_count": null,
      "outputs": []
    },
    {
      "cell_type": "markdown",
      "metadata": {
        "id": "BAYc_-se7085"
      },
      "source": [
        "From the above function we see there are many rows missing several features and many rows with no null values."
      ]
    },
    {
      "cell_type": "markdown",
      "metadata": {
        "id": "YHqmaTMo8EG8"
      },
      "source": [
        "In addition to user defined functions like 'lit' and 'lambda' we can use SQL functions to wrangle our data in Spark. Let's review the percent of missingness by column. But first import the sql functions as fn."
      ]
    },
    {
      "cell_type": "code",
      "metadata": {
        "id": "tYROPngf81Sy"
      },
      "source": [
        "import pyspark.sql.functions as fn"
      ],
      "execution_count": null,
      "outputs": []
    },
    {
      "cell_type": "markdown",
      "metadata": {
        "id": "evf7g3olos5b"
      },
      "source": [
        "Print the percent of null values per column."
      ]
    },
    {
      "cell_type": "code",
      "metadata": {
        "id": "5RuJzhxS8X72",
        "colab": {
          "base_uri": "https://localhost:8080/",
          "height": 143
        },
        "outputId": "325db496-a87f-4c2b-b589-04105e046770"
      },
      "source": [
        "#Answer below:\n",
        "video.agg(*[(1-(fn.count(col)/fn.count('*'))).alias(col) for col in video.columns]).show()"
      ],
      "execution_count": null,
      "outputs": [
        {
          "output_type": "stream",
          "text": [
            "+--------------------+--------+---------------+--------------------+---------+--------+--------+--------+-----------+------------+------------------+------------------+-----------------+------------------+------------------+-------------------+\n",
            "|                Name|Platform|Year_of_Release|               Genre|Publisher|NA_Sales|EU_Sales|JP_Sales|Other_Sales|Global_Sales|      Critic_Score|      Critic_Count|       User_Score|        User_Count|         Developer|             Rating|\n",
            "+--------------------+--------+---------------+--------------------+---------+--------+--------+--------+-----------+------------+------------------+------------------+-----------------+------------------+------------------+-------------------+\n",
            "|1.196243794485685...|     0.0|            0.0|1.196243794485685...|      0.0|     0.0|     0.0|     0.0|        0.0|         0.0|0.5133082122136492|0.5133082122136492|0.400980919911478|0.5460254799928226|0.3961361325438124|0.40486871224355525|\n",
            "+--------------------+--------+---------------+--------------------+---------+--------+--------+--------+-----------+------------+------------------+------------------+-----------------+------------------+------------------+-------------------+\n",
            "\n"
          ],
          "name": "stdout"
        }
      ]
    },
    {
      "cell_type": "markdown",
      "metadata": {
        "id": "_4FUppGR-ss5"
      },
      "source": [
        "We notice that the developer column is missing about 40% of the rows and we need to calculate the average sales revenue by developer so let's drop records where `Developer` is missing."
      ]
    },
    {
      "cell_type": "code",
      "metadata": {
        "id": "tFm9rNIV-7yD",
        "colab": {
          "base_uri": "https://localhost:8080/",
          "height": 55
        },
        "outputId": "3c57b80a-8061-4617-abbd-849941e60239"
      },
      "source": [
        "#Answer below:\n",
        "video_no_nulls = video.filter(video['Developer'].isNotNull())\n",
        "video_no_nulls"
      ],
      "execution_count": null,
      "outputs": [
        {
          "output_type": "execute_result",
          "data": {
            "text/plain": [
              "DataFrame[Name: string, Platform: string, Year_of_Release: string, Genre: string, Publisher: string, NA_Sales: double, EU_Sales: double, JP_Sales: double, Other_Sales: double, Global_Sales: double, Critic_Score: int, Critic_Count: int, User_Score: string, User_Count: int, Developer: string, Rating: string]"
            ]
          },
          "metadata": {
            "tags": []
          },
          "execution_count": 49
        }
      ]
    },
    {
      "cell_type": "markdown",
      "metadata": {
        "id": "d9_58zZnQ4m8"
      },
      "source": [
        "Review the new dataframe with no null values in the Developer column."
      ]
    },
    {
      "cell_type": "code",
      "metadata": {
        "id": "dnKVtUnoKtS9",
        "colab": {
          "base_uri": "https://localhost:8080/",
          "height": 495
        },
        "outputId": "543e7901-74f2-4031-8a92-a99b16093ecc"
      },
      "source": [
        "#Answer below:\n",
        "video_no_nulls.show()"
      ],
      "execution_count": null,
      "outputs": [
        {
          "output_type": "stream",
          "text": [
            "+--------------------+--------+---------------+--------+--------------------+--------+--------+--------+-----------+------------+------------+------------+----------+----------+--------------------+------+\n",
            "|                Name|Platform|Year_of_Release|   Genre|           Publisher|NA_Sales|EU_Sales|JP_Sales|Other_Sales|Global_Sales|Critic_Score|Critic_Count|User_Score|User_Count|           Developer|Rating|\n",
            "+--------------------+--------+---------------+--------+--------------------+--------+--------+--------+-----------+------------+------------+------------+----------+----------+--------------------+------+\n",
            "|          Wii Sports|     Wii|           2006|  Sports|            Nintendo|   41.36|   28.96|    3.77|       8.45|       82.53|          76|          51|         8|       322|            Nintendo|     E|\n",
            "|      Mario Kart Wii|     Wii|           2008|  Racing|            Nintendo|   15.68|   12.76|    3.79|       3.29|       35.52|          82|          73|       8.3|       709|            Nintendo|     E|\n",
            "|   Wii Sports Resort|     Wii|           2009|  Sports|            Nintendo|   15.61|   10.93|    3.28|       2.95|       32.77|          80|          73|         8|       192|            Nintendo|     E|\n",
            "|New Super Mario B...|      DS|           2006|Platform|            Nintendo|   11.28|    9.14|     6.5|       2.88|        29.8|          89|          65|       8.5|       431|            Nintendo|     E|\n",
            "|            Wii Play|     Wii|           2006|    Misc|            Nintendo|   13.96|    9.18|    2.93|       2.84|       28.92|          58|          41|       6.6|       129|            Nintendo|     E|\n",
            "|New Super Mario B...|     Wii|           2009|Platform|            Nintendo|   14.44|    6.94|     4.7|       2.24|       28.32|          87|          80|       8.4|       594|            Nintendo|     E|\n",
            "|       Mario Kart DS|      DS|           2005|  Racing|            Nintendo|    9.71|    7.47|    4.13|        1.9|       23.21|          91|          64|       8.6|       464|            Nintendo|     E|\n",
            "|             Wii Fit|     Wii|           2007|  Sports|            Nintendo|    8.92|    8.03|     3.6|       2.15|        22.7|          80|          63|       7.7|       146|            Nintendo|     E|\n",
            "|  Kinect Adventures!|    X360|           2010|    Misc|Microsoft Game St...|    15.0|    4.89|    0.24|       1.69|       21.81|          61|          45|       6.3|       106| Good Science Studio|     E|\n",
            "|        Wii Fit Plus|     Wii|           2009|  Sports|            Nintendo|    9.01|    8.49|    2.53|       1.77|       21.79|          80|          33|       7.4|        52|            Nintendo|     E|\n",
            "|  Grand Theft Auto V|     PS3|           2013|  Action|Take-Two Interactive|    7.02|    9.09|    0.98|       3.96|       21.04|          97|          50|       8.2|      3994|      Rockstar North|     M|\n",
            "|Grand Theft Auto:...|     PS2|           2004|  Action|Take-Two Interactive|    9.43|     0.4|    0.41|      10.57|       20.81|          95|          80|         9|      1588|      Rockstar North|     M|\n",
            "|Brain Age: Train ...|      DS|           2005|    Misc|            Nintendo|    4.74|     9.2|    4.16|       2.04|       20.15|          77|          58|       7.9|        50|            Nintendo|     E|\n",
            "|  Grand Theft Auto V|    X360|           2013|  Action|Take-Two Interactive|    9.66|    5.14|    0.06|       1.41|       16.27|          97|          58|       8.1|      3711|      Rockstar North|     M|\n",
            "|Grand Theft Auto:...|     PS2|           2002|  Action|Take-Two Interactive|    8.41|    5.49|    0.47|       1.78|       16.15|          95|          62|       8.7|       730|      Rockstar North|     M|\n",
            "|Brain Age 2: More...|      DS|           2005|  Puzzle|            Nintendo|    3.43|    5.35|    5.32|       1.18|       15.29|          77|          37|       7.1|        19|            Nintendo|     E|\n",
            "|Gran Turismo 3: A...|     PS2|           2001|  Racing|Sony Computer Ent...|    6.85|    5.09|    1.87|       1.16|       14.98|          95|          54|       8.4|       314|   Polyphony Digital|     E|\n",
            "|Call of Duty: Mod...|    X360|           2011| Shooter|          Activision|    9.04|    4.24|    0.13|       1.32|       14.73|          88|          81|       3.4|      8713|Infinity Ward, Sl...|     M|\n",
            "|Call of Duty: Bla...|    X360|           2010| Shooter|          Activision|     9.7|    3.68|    0.11|       1.13|       14.61|          87|          89|       6.3|      1454|            Treyarch|     M|\n",
            "|Call of Duty: Bla...|     PS3|           2012| Shooter|          Activision|    4.99|    5.73|    0.65|       2.42|       13.79|          83|          21|       5.3|       922|            Treyarch|     M|\n",
            "+--------------------+--------+---------------+--------+--------------------+--------+--------+--------+-----------+------------+------------+------------+----------+----------+--------------------+------+\n",
            "only showing top 20 rows\n",
            "\n"
          ],
          "name": "stdout"
        }
      ]
    },
    {
      "cell_type": "markdown",
      "metadata": {
        "id": "9UpMKNHq-z3C"
      },
      "source": [
        "Calculate the mean global sales by developer using a groupby aggregation and show the results."
      ]
    },
    {
      "cell_type": "code",
      "metadata": {
        "id": "SMOEst4r8DtE"
      },
      "source": [
        "#Answer below:"
      ],
      "execution_count": null,
      "outputs": []
    },
    {
      "cell_type": "code",
      "metadata": {
        "id": "0GGwqbuq-_l5"
      },
      "source": [
        "mean_global_sales = video_no_nulls.groupBy('Developer').mean('Global_Sales')"
      ],
      "execution_count": null,
      "outputs": []
    },
    {
      "cell_type": "code",
      "metadata": {
        "id": "UDDHAKQhbBFe",
        "colab": {
          "base_uri": "https://localhost:8080/",
          "height": 475
        },
        "outputId": "5f0972ae-e229-41e1-a335-5d041a07ad5c"
      },
      "source": [
        "mean_global_sales.show()"
      ],
      "execution_count": null,
      "outputs": [
        {
          "output_type": "stream",
          "text": [
            "+--------------------+-------------------+\n",
            "|           Developer|  avg(Global_Sales)|\n",
            "+--------------------+-------------------+\n",
            "| Hyperspace Cowgirls|                0.3|\n",
            "|            Deep Red|               0.02|\n",
            "|        Funbox Media|               0.02|\n",
            "|      Camouflaj, LLC|               0.01|\n",
            "|          SCEA, Sims|                0.7|\n",
            "|Ubisoft Barcelona...|               0.47|\n",
            "|LightBox Interactive|               0.29|\n",
            "|      Handheld Games|0.12333333333333335|\n",
            "|     Beep Industries|               0.12|\n",
            "|          SpiderMonk|               0.07|\n",
            "|             Blue 52|               0.04|\n",
            "|      Rockstar Leeds|  2.622222222222222|\n",
            "|           Hangar 13| 0.8733333333333334|\n",
            "|         id Software|               0.56|\n",
            "|       ZeniMax Media|               1.09|\n",
            "|Gearbox Software,...| 0.6666666666666666|\n",
            "|           Telegames|               0.29|\n",
            "|                 3DO|0.16470588235294115|\n",
            "|            Tantatus|0.17750000000000002|\n",
            "|     Lancarse, Atlus|               0.33|\n",
            "+--------------------+-------------------+\n",
            "only showing top 20 rows\n",
            "\n"
          ],
          "name": "stdout"
        }
      ]
    },
    {
      "cell_type": "code",
      "metadata": {
        "id": "7N8gPZMmbC0f"
      },
      "source": [
        ""
      ],
      "execution_count": null,
      "outputs": []
    }
  ]
}