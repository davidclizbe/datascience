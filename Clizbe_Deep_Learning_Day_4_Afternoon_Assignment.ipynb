{
  "nbformat": 4,
  "nbformat_minor": 0,
  "metadata": {
    "kernelspec": {
      "display_name": "Python 3",
      "language": "python",
      "name": "python3"
    },
    "language_info": {
      "codemirror_mode": {
        "name": "ipython",
        "version": 3
      },
      "file_extension": ".py",
      "mimetype": "text/x-python",
      "name": "python",
      "nbconvert_exporter": "python",
      "pygments_lexer": "ipython3",
      "version": "3.7.0"
    },
    "colab": {
      "name": "Clizbe Deep Learning Day 4 Afternoon Assignment.ipynb",
      "provenance": [],
      "collapsed_sections": [],
      "include_colab_link": true
    }
  },
  "cells": [
    {
      "cell_type": "markdown",
      "metadata": {
        "id": "view-in-github",
        "colab_type": "text"
      },
      "source": [
        "<a href=\"https://colab.research.google.com/github/davidclizbe/datascience/blob/master/Clizbe_Deep_Learning_Day_4_Afternoon_Assignment.ipynb\" target=\"_parent\"><img src=\"https://colab.research.google.com/assets/colab-badge.svg\" alt=\"Open In Colab\"/></a>"
      ]
    },
    {
      "cell_type": "markdown",
      "metadata": {
        "id": "oQfS-31Jh-bL"
      },
      "source": [
        "## Recurrent Neural Networks\n",
        "\n",
        "In this assignment, we will learn about recurrent neural networks. We will create an RNN and learn to classify text data."
      ]
    },
    {
      "cell_type": "code",
      "metadata": {
        "id": "BOy993_Xh-bM"
      },
      "source": [
        "import warnings\n",
        "warnings.filterwarnings(\"ignore\")\n",
        "\n",
        "import numpy as np\n",
        "import pandas as pd"
      ],
      "execution_count": null,
      "outputs": []
    },
    {
      "cell_type": "code",
      "metadata": {
        "id": "fIQVq09rP4ts",
        "colab": {
          "base_uri": "https://localhost:8080/",
          "height": 68
        },
        "outputId": "f7c84618-60fd-4604-fe11-17986fbe2f70"
      },
      "source": [
        "import nltk\n",
        "nltk.download('stopwords')"
      ],
      "execution_count": null,
      "outputs": [
        {
          "output_type": "stream",
          "text": [
            "[nltk_data] Downloading package stopwords to /root/nltk_data...\n",
            "[nltk_data]   Unzipping corpora/stopwords.zip.\n"
          ],
          "name": "stdout"
        },
        {
          "output_type": "execute_result",
          "data": {
            "text/plain": [
              "True"
            ]
          },
          "metadata": {
            "tags": []
          },
          "execution_count": 7
        }
      ]
    },
    {
      "cell_type": "code",
      "metadata": {
        "id": "ToNRsZf5h-bP",
        "colab": {
          "base_uri": "https://localhost:8080/",
          "height": 54
        },
        "outputId": "d10094b7-295d-4624-cddf-6e0838efd5ab"
      },
      "source": [
        "yelp = pd.read_csv('https://tf-assets-prod.s3.amazonaws.com/tf-curric/data-science/yelp_labeled.csv', error_bad_lines=False)"
      ],
      "execution_count": null,
      "outputs": [
        {
          "output_type": "stream",
          "text": [
            "b'Skipping line 281: expected 2 fields, saw 3\\nSkipping line 290: expected 2 fields, saw 3\\nSkipping line 296: expected 2 fields, saw 3\\nSkipping line 322: expected 2 fields, saw 3\\nSkipping line 373: expected 2 fields, saw 3\\nSkipping line 417: expected 2 fields, saw 3\\nSkipping line 427: expected 2 fields, saw 3\\nSkipping line 429: expected 2 fields, saw 3\\nSkipping line 577: expected 2 fields, saw 3\\nSkipping line 578: expected 2 fields, saw 3\\nSkipping line 611: expected 2 fields, saw 3\\nSkipping line 677: expected 2 fields, saw 3\\nSkipping line 771: expected 2 fields, saw 3\\nSkipping line 930: expected 2 fields, saw 3\\nSkipping line 979: expected 2 fields, saw 4\\nSkipping line 980: expected 2 fields, saw 3\\n'\n"
          ],
          "name": "stderr"
        }
      ]
    },
    {
      "cell_type": "code",
      "metadata": {
        "id": "7fKQfObOh-bX",
        "colab": {
          "base_uri": "https://localhost:8080/",
          "height": 204
        },
        "outputId": "c78da772-5bf8-4207-ad6f-e7d69cb319bc"
      },
      "source": [
        "yelp.head()"
      ],
      "execution_count": null,
      "outputs": [
        {
          "output_type": "execute_result",
          "data": {
            "text/html": [
              "<div>\n",
              "<style scoped>\n",
              "    .dataframe tbody tr th:only-of-type {\n",
              "        vertical-align: middle;\n",
              "    }\n",
              "\n",
              "    .dataframe tbody tr th {\n",
              "        vertical-align: top;\n",
              "    }\n",
              "\n",
              "    .dataframe thead th {\n",
              "        text-align: right;\n",
              "    }\n",
              "</style>\n",
              "<table border=\"1\" class=\"dataframe\">\n",
              "  <thead>\n",
              "    <tr style=\"text-align: right;\">\n",
              "      <th></th>\n",
              "      <th>text</th>\n",
              "      <th>sentiment</th>\n",
              "    </tr>\n",
              "  </thead>\n",
              "  <tbody>\n",
              "    <tr>\n",
              "      <th>0</th>\n",
              "      <td>Wow... Loved this place.</td>\n",
              "      <td>1</td>\n",
              "    </tr>\n",
              "    <tr>\n",
              "      <th>1</th>\n",
              "      <td>Crust is not good.</td>\n",
              "      <td>0</td>\n",
              "    </tr>\n",
              "    <tr>\n",
              "      <th>2</th>\n",
              "      <td>Not tasty and the texture was just nasty.</td>\n",
              "      <td>0</td>\n",
              "    </tr>\n",
              "    <tr>\n",
              "      <th>3</th>\n",
              "      <td>Stopped by during the late May bank holiday of...</td>\n",
              "      <td>1</td>\n",
              "    </tr>\n",
              "    <tr>\n",
              "      <th>4</th>\n",
              "      <td>The selection on the menu was great and so wer...</td>\n",
              "      <td>1</td>\n",
              "    </tr>\n",
              "  </tbody>\n",
              "</table>\n",
              "</div>"
            ],
            "text/plain": [
              "                                                text  sentiment\n",
              "0                           Wow... Loved this place.          1\n",
              "1                                 Crust is not good.          0\n",
              "2          Not tasty and the texture was just nasty.          0\n",
              "3  Stopped by during the late May bank holiday of...          1\n",
              "4  The selection on the menu was great and so wer...          1"
            ]
          },
          "metadata": {
            "tags": []
          },
          "execution_count": 3
        }
      ]
    },
    {
      "cell_type": "code",
      "metadata": {
        "id": "yXyJFyo9h-bZ",
        "colab": {
          "base_uri": "https://localhost:8080/",
          "height": 68
        },
        "outputId": "70912d17-b261-4e3f-c080-04716ef32155"
      },
      "source": [
        "yelp.sentiment.value_counts()"
      ],
      "execution_count": null,
      "outputs": [
        {
          "output_type": "execute_result",
          "data": {
            "text/plain": [
              "1    494\n",
              "0    482\n",
              "Name: sentiment, dtype: int64"
            ]
          },
          "metadata": {
            "tags": []
          },
          "execution_count": 4
        }
      ]
    },
    {
      "cell_type": "markdown",
      "metadata": {
        "id": "bp0a4qU9h-bb"
      },
      "source": [
        "We have loaded a Yelp review dataset above. A positive sentiment is classified as 1 and a negative sentiment is classified as 0. "
      ]
    },
    {
      "cell_type": "code",
      "metadata": {
        "id": "Zyboex_Vh-bb"
      },
      "source": [
        "from nltk.corpus import stopwords\n",
        "import re\n",
        "from nltk.stem.porter import PorterStemmer\n",
        "\n",
        "stemmer = PorterStemmer()\n",
        "\n",
        "def remove_stopwords(input_text):\n",
        "        stopwords_list = stopwords.words('english')\n",
        "        # Some words which might indicate a certain sentiment are kept via a whitelist\n",
        "        whitelist = [\"n't\", \"not\", \"no\"]\n",
        "        words = input_text.split() \n",
        "        clean_words = [word for word in words if (word not in stopwords_list or word in whitelist) and len(word) > 1] \n",
        "        return \" \".join(clean_words)       \n",
        "\n",
        "def stem_list(word_list):\n",
        "    stemmed = []\n",
        "    for word in word_list:\n",
        "        stemmedword = stemmer.stem(word)\n",
        "        stemmed.append(stemmedword)\n",
        "    return stemmed\n",
        "\n",
        "def normalize(terms):\n",
        "    terms = terms.lower()\n",
        "    terms = remove_stopwords(terms)\n",
        "    word_delimiters = u'[\\\\[\\\\]\\n.!?,;:\\t\\\\-\\\\\"\\\\(\\\\)\\\\\\'\\u2019\\u2013 ]'\n",
        "    term_list = re.split(word_delimiters, terms)\n",
        "    trimmed = [x.rstrip() for x in term_list]\n",
        "    stemmed = stem_list(trimmed)\n",
        "    space = ' '\n",
        "    normed = space.join(stemmed)\n",
        "    normed = normed.replace('  ', ' ')\n",
        "    return normed"
      ],
      "execution_count": null,
      "outputs": []
    },
    {
      "cell_type": "markdown",
      "metadata": {
        "id": "CsuGlOW8h-bd"
      },
      "source": [
        "In the code block above, we have functions to remove stopwords, stem, and normalize the text (remove special characters and trim white space). Apply the normalize function to every yelp review and assign the normalized text to a new column."
      ]
    },
    {
      "cell_type": "code",
      "metadata": {
        "id": "BDWbek-Yh-be",
        "colab": {
          "base_uri": "https://localhost:8080/",
          "height": 204
        },
        "outputId": "45e98b0e-9d2a-47cc-8b3a-9be4fa0115ff"
      },
      "source": [
        "# Answer below:\n",
        "yelp['text_norm'] = yelp['text'].apply(normalize)\n",
        "yelp.head()"
      ],
      "execution_count": null,
      "outputs": [
        {
          "output_type": "execute_result",
          "data": {
            "text/html": [
              "<div>\n",
              "<style scoped>\n",
              "    .dataframe tbody tr th:only-of-type {\n",
              "        vertical-align: middle;\n",
              "    }\n",
              "\n",
              "    .dataframe tbody tr th {\n",
              "        vertical-align: top;\n",
              "    }\n",
              "\n",
              "    .dataframe thead th {\n",
              "        text-align: right;\n",
              "    }\n",
              "</style>\n",
              "<table border=\"1\" class=\"dataframe\">\n",
              "  <thead>\n",
              "    <tr style=\"text-align: right;\">\n",
              "      <th></th>\n",
              "      <th>text</th>\n",
              "      <th>sentiment</th>\n",
              "      <th>text_norm</th>\n",
              "    </tr>\n",
              "  </thead>\n",
              "  <tbody>\n",
              "    <tr>\n",
              "      <th>0</th>\n",
              "      <td>Wow... Loved this place.</td>\n",
              "      <td>1</td>\n",
              "      <td>wow  love place</td>\n",
              "    </tr>\n",
              "    <tr>\n",
              "      <th>1</th>\n",
              "      <td>Crust is not good.</td>\n",
              "      <td>0</td>\n",
              "      <td>crust not good</td>\n",
              "    </tr>\n",
              "    <tr>\n",
              "      <th>2</th>\n",
              "      <td>Not tasty and the texture was just nasty.</td>\n",
              "      <td>0</td>\n",
              "      <td>not tasti textur nasti</td>\n",
              "    </tr>\n",
              "    <tr>\n",
              "      <th>3</th>\n",
              "      <td>Stopped by during the late May bank holiday of...</td>\n",
              "      <td>1</td>\n",
              "      <td>stop late may bank holiday rick steve recommen...</td>\n",
              "    </tr>\n",
              "    <tr>\n",
              "      <th>4</th>\n",
              "      <td>The selection on the menu was great and so wer...</td>\n",
              "      <td>1</td>\n",
              "      <td>select menu great price</td>\n",
              "    </tr>\n",
              "  </tbody>\n",
              "</table>\n",
              "</div>"
            ],
            "text/plain": [
              "                                                text  ...                                          text_norm\n",
              "0                           Wow... Loved this place.  ...                                   wow  love place \n",
              "1                                 Crust is not good.  ...                                    crust not good \n",
              "2          Not tasty and the texture was just nasty.  ...                            not tasti textur nasti \n",
              "3  Stopped by during the late May bank holiday of...  ...  stop late may bank holiday rick steve recommen...\n",
              "4  The selection on the menu was great and so wer...  ...                           select menu great price \n",
              "\n",
              "[5 rows x 3 columns]"
            ]
          },
          "metadata": {
            "tags": []
          },
          "execution_count": 8
        }
      ]
    },
    {
      "cell_type": "markdown",
      "metadata": {
        "id": "tywlufjyh-bf"
      },
      "source": [
        "Next, use the one hot function for text encoding and encode the normalized text. Determine the vocabulary size to perform the encoding."
      ]
    },
    {
      "cell_type": "code",
      "metadata": {
        "id": "NWKnOSd_h-bg"
      },
      "source": [
        "# Answer below:\n",
        "from tensorflow.keras.preprocessing.text import one_hot\n",
        "\n",
        "vocab_size = len(set(yelp['text_norm'].apply(lambda x: x.strip().split(' ')).sum()))\n",
        "yelp['encoded'] = yelp['text_norm'].apply(one_hot, args=[vocab_size])"
      ],
      "execution_count": null,
      "outputs": []
    },
    {
      "cell_type": "code",
      "metadata": {
        "id": "PiKAaHAkQzM9",
        "colab": {
          "base_uri": "https://localhost:8080/",
          "height": 204
        },
        "outputId": "6d5b9b70-82ed-41bb-f9b4-3a0e936a0a62"
      },
      "source": [
        "yelp.head()"
      ],
      "execution_count": null,
      "outputs": [
        {
          "output_type": "execute_result",
          "data": {
            "text/html": [
              "<div>\n",
              "<style scoped>\n",
              "    .dataframe tbody tr th:only-of-type {\n",
              "        vertical-align: middle;\n",
              "    }\n",
              "\n",
              "    .dataframe tbody tr th {\n",
              "        vertical-align: top;\n",
              "    }\n",
              "\n",
              "    .dataframe thead th {\n",
              "        text-align: right;\n",
              "    }\n",
              "</style>\n",
              "<table border=\"1\" class=\"dataframe\">\n",
              "  <thead>\n",
              "    <tr style=\"text-align: right;\">\n",
              "      <th></th>\n",
              "      <th>text</th>\n",
              "      <th>sentiment</th>\n",
              "      <th>text_norm</th>\n",
              "      <th>encoded</th>\n",
              "    </tr>\n",
              "  </thead>\n",
              "  <tbody>\n",
              "    <tr>\n",
              "      <th>0</th>\n",
              "      <td>Wow... Loved this place.</td>\n",
              "      <td>1</td>\n",
              "      <td>wow  love place</td>\n",
              "      <td>[333, 1327, 70]</td>\n",
              "    </tr>\n",
              "    <tr>\n",
              "      <th>1</th>\n",
              "      <td>Crust is not good.</td>\n",
              "      <td>0</td>\n",
              "      <td>crust not good</td>\n",
              "      <td>[832, 779, 405]</td>\n",
              "    </tr>\n",
              "    <tr>\n",
              "      <th>2</th>\n",
              "      <td>Not tasty and the texture was just nasty.</td>\n",
              "      <td>0</td>\n",
              "      <td>not tasti textur nasti</td>\n",
              "      <td>[779, 349, 338, 1428]</td>\n",
              "    </tr>\n",
              "    <tr>\n",
              "      <th>3</th>\n",
              "      <td>Stopped by during the late May bank holiday of...</td>\n",
              "      <td>1</td>\n",
              "      <td>stop late may bank holiday rick steve recommen...</td>\n",
              "      <td>[923, 1588, 211, 561, 616, 126, 238, 882, 1327...</td>\n",
              "    </tr>\n",
              "    <tr>\n",
              "      <th>4</th>\n",
              "      <td>The selection on the menu was great and so wer...</td>\n",
              "      <td>1</td>\n",
              "      <td>select menu great price</td>\n",
              "      <td>[851, 1019, 962, 931]</td>\n",
              "    </tr>\n",
              "  </tbody>\n",
              "</table>\n",
              "</div>"
            ],
            "text/plain": [
              "                                                text  ...                                            encoded\n",
              "0                           Wow... Loved this place.  ...                                    [333, 1327, 70]\n",
              "1                                 Crust is not good.  ...                                    [832, 779, 405]\n",
              "2          Not tasty and the texture was just nasty.  ...                              [779, 349, 338, 1428]\n",
              "3  Stopped by during the late May bank holiday of...  ...  [923, 1588, 211, 561, 616, 126, 238, 882, 1327...\n",
              "4  The selection on the menu was great and so wer...  ...                              [851, 1019, 962, 931]\n",
              "\n",
              "[5 rows x 4 columns]"
            ]
          },
          "metadata": {
            "tags": []
          },
          "execution_count": 15
        }
      ]
    },
    {
      "cell_type": "markdown",
      "metadata": {
        "id": "FnRMy2S0h-bh"
      },
      "source": [
        "Convert the encoded sequences into a numpy array and make sure all reviews are the same length using the `pad_sequences` function in Keras."
      ]
    },
    {
      "cell_type": "code",
      "metadata": {
        "id": "pk24Behch-bi",
        "colab": {
          "base_uri": "https://localhost:8080/",
          "height": 136
        },
        "outputId": "8c695b0c-daca-436e-c687-1beb25c3dd61"
      },
      "source": [
        "# Answer below:\n",
        "from tensorflow.keras.preprocessing.sequence import pad_sequences\n",
        "\n",
        "ind_vars = pad_sequences(yelp['encoded'])\n",
        "ind_vars"
      ],
      "execution_count": null,
      "outputs": [
        {
          "output_type": "execute_result",
          "data": {
            "text/plain": [
              "array([[   0,    0,    0, ...,  333, 1327,   70],\n",
              "       [   0,    0,    0, ...,  832,  779,  405],\n",
              "       [   0,    0,    0, ...,  349,  338, 1428],\n",
              "       ...,\n",
              "       [   0,    0,    0, ...,  779, 1005,  660],\n",
              "       [   0,    0,    0, ...,  953, 1141,  359],\n",
              "       [   0,    0,    0, ...,  642, 1235,  551]], dtype=int32)"
            ]
          },
          "metadata": {
            "tags": []
          },
          "execution_count": 17
        }
      ]
    },
    {
      "cell_type": "code",
      "metadata": {
        "id": "zAvmBkNtRL7j",
        "colab": {
          "base_uri": "https://localhost:8080/",
          "height": 34
        },
        "outputId": "6cefb5a6-b6de-47a9-c7c4-5691baffd78e"
      },
      "source": [
        "ind_vars.shape"
      ],
      "execution_count": null,
      "outputs": [
        {
          "output_type": "execute_result",
          "data": {
            "text/plain": [
              "(976, 83)"
            ]
          },
          "metadata": {
            "tags": []
          },
          "execution_count": 18
        }
      ]
    },
    {
      "cell_type": "markdown",
      "metadata": {
        "id": "XIclszsJh-bj"
      },
      "source": [
        "Split the data into train and test. Use 20% for test. The sentiment column should be used as the target variable."
      ]
    },
    {
      "cell_type": "code",
      "metadata": {
        "id": "zlaZSo-Yh-bk"
      },
      "source": [
        "# Answer below:\n",
        "from sklearn.model_selection import train_test_split\n",
        "\n",
        "target = yelp['sentiment']\n",
        "X_train, X_test, y_train, y_test = train_test_split(ind_vars, target, test_size=0.2, random_state=21)"
      ],
      "execution_count": null,
      "outputs": []
    },
    {
      "cell_type": "markdown",
      "metadata": {
        "id": "EAsqg_REh-bm"
      },
      "source": [
        "Create a sequential model. The model should contain an embedding layer with input dim that is the size of the largest encoding in the vocabulary. The output dim should be 100, the input length is the number of columns in the training data. \n",
        "After the embedding layer, add a SimpleRNN layer with unit size 32, a dense layer of size 8 and a dense output layer."
      ]
    },
    {
      "cell_type": "code",
      "metadata": {
        "id": "TIWerI3_RmJZ",
        "colab": {
          "base_uri": "https://localhost:8080/",
          "height": 34
        },
        "outputId": "9ee6c98f-c5d7-45a3-f825-b40626268fe6"
      },
      "source": [
        "X_train.shape"
      ],
      "execution_count": null,
      "outputs": [
        {
          "output_type": "execute_result",
          "data": {
            "text/plain": [
              "(780, 83)"
            ]
          },
          "metadata": {
            "tags": []
          },
          "execution_count": 21
        }
      ]
    },
    {
      "cell_type": "code",
      "metadata": {
        "id": "ssougKQUh-bm",
        "colab": {
          "base_uri": "https://localhost:8080/",
          "height": 289
        },
        "outputId": "a83c4d6d-458b-4f7f-de45-607ab4767865"
      },
      "source": [
        "# Answer below:\n",
        "from tensorflow.keras.models import Sequential\n",
        "from tensorflow.keras.layers import Dense, Embedding, SimpleRNN\n",
        "\n",
        "max_words = np.max(X_train)+1\n",
        "max_len = X_train.shape[1]\n",
        "\n",
        "model = Sequential()\n",
        "model.add(Embedding(max_words, 100, input_length=max_len))\n",
        "model.add(SimpleRNN(32, activation=\"relu\"))\n",
        "model.add(Dense(8, activation=\"relu\"))\n",
        "model.add(Dense(1, activation=\"sigmoid\"))\n",
        "model.summary()"
      ],
      "execution_count": null,
      "outputs": [
        {
          "output_type": "stream",
          "text": [
            "Model: \"sequential\"\n",
            "_________________________________________________________________\n",
            "Layer (type)                 Output Shape              Param #   \n",
            "=================================================================\n",
            "embedding (Embedding)        (None, 83, 100)           162900    \n",
            "_________________________________________________________________\n",
            "simple_rnn (SimpleRNN)       (None, 32)                4256      \n",
            "_________________________________________________________________\n",
            "dense (Dense)                (None, 8)                 264       \n",
            "_________________________________________________________________\n",
            "dense_1 (Dense)              (None, 1)                 9         \n",
            "=================================================================\n",
            "Total params: 167,429\n",
            "Trainable params: 167,429\n",
            "Non-trainable params: 0\n",
            "_________________________________________________________________\n"
          ],
          "name": "stdout"
        }
      ]
    },
    {
      "cell_type": "markdown",
      "metadata": {
        "id": "tjgqWnioh-bo"
      },
      "source": [
        "Compile using the optimizer of your choice, use crossentropy for your loss function. Fit the model using a batch size of 128 and 50 epochs"
      ]
    },
    {
      "cell_type": "code",
      "metadata": {
        "id": "ewNbf3fKh-bo",
        "colab": {
          "base_uri": "https://localhost:8080/",
          "height": 1000
        },
        "outputId": "21a477e4-1222-4b70-ece2-c8116d37cfe3"
      },
      "source": [
        "# Answer below:\n",
        "model.compile(optimizer='adam', loss='binary_crossentropy', metrics=['accuracy'])\n",
        "\n",
        "epochs = 50\n",
        "batch_size = 128\n",
        "\n",
        "model.fit(X_train, y_train, validation_data=(X_test, y_test),\n",
        "          batch_size=batch_size, epochs=epochs)"
      ],
      "execution_count": null,
      "outputs": [
        {
          "output_type": "stream",
          "text": [
            "Epoch 1/50\n",
            "7/7 [==============================] - 0s 65ms/step - loss: 0.6934 - accuracy: 0.5026 - val_loss: 0.6929 - val_accuracy: 0.5408\n",
            "Epoch 2/50\n",
            "7/7 [==============================] - 0s 32ms/step - loss: 0.6851 - accuracy: 0.7038 - val_loss: 0.6917 - val_accuracy: 0.5255\n",
            "Epoch 3/50\n",
            "7/7 [==============================] - 0s 30ms/step - loss: 0.6773 - accuracy: 0.7500 - val_loss: 0.6892 - val_accuracy: 0.5357\n",
            "Epoch 4/50\n",
            "7/7 [==============================] - 0s 31ms/step - loss: 0.6664 - accuracy: 0.8000 - val_loss: 0.6866 - val_accuracy: 0.5714\n",
            "Epoch 5/50\n",
            "7/7 [==============================] - 0s 34ms/step - loss: 0.6523 - accuracy: 0.8577 - val_loss: 0.6830 - val_accuracy: 0.5765\n",
            "Epoch 6/50\n",
            "7/7 [==============================] - 0s 32ms/step - loss: 0.6323 - accuracy: 0.9090 - val_loss: 0.6784 - val_accuracy: 0.5867\n",
            "Epoch 7/50\n",
            "7/7 [==============================] - 0s 33ms/step - loss: 0.6023 - accuracy: 0.9256 - val_loss: 0.6685 - val_accuracy: 0.5969\n",
            "Epoch 8/50\n",
            "7/7 [==============================] - 0s 30ms/step - loss: 0.5578 - accuracy: 0.9269 - val_loss: 0.6560 - val_accuracy: 0.6071\n",
            "Epoch 9/50\n",
            "7/7 [==============================] - 0s 33ms/step - loss: 0.4931 - accuracy: 0.9449 - val_loss: 0.6421 - val_accuracy: 0.5867\n",
            "Epoch 10/50\n",
            "7/7 [==============================] - 0s 32ms/step - loss: 0.4137 - accuracy: 0.9474 - val_loss: 0.6266 - val_accuracy: 0.6582\n",
            "Epoch 11/50\n",
            "7/7 [==============================] - 0s 31ms/step - loss: 0.3231 - accuracy: 0.9603 - val_loss: 0.6023 - val_accuracy: 0.6633\n",
            "Epoch 12/50\n",
            "7/7 [==============================] - 0s 30ms/step - loss: 0.2438 - accuracy: 0.9679 - val_loss: 0.5988 - val_accuracy: 0.6888\n",
            "Epoch 13/50\n",
            "7/7 [==============================] - 0s 39ms/step - loss: 0.2010 - accuracy: 0.9705 - val_loss: 0.5907 - val_accuracy: 0.7041\n",
            "Epoch 14/50\n",
            "7/7 [==============================] - 0s 39ms/step - loss: 0.1394 - accuracy: 0.9808 - val_loss: 0.6054 - val_accuracy: 0.7194\n",
            "Epoch 15/50\n",
            "7/7 [==============================] - 0s 38ms/step - loss: 0.0862 - accuracy: 0.9859 - val_loss: 0.6839 - val_accuracy: 0.7194\n",
            "Epoch 16/50\n",
            "7/7 [==============================] - 0s 39ms/step - loss: 0.0587 - accuracy: 0.9872 - val_loss: 0.7997 - val_accuracy: 0.6939\n",
            "Epoch 17/50\n",
            "7/7 [==============================] - 0s 39ms/step - loss: 0.0452 - accuracy: 0.9923 - val_loss: 0.6913 - val_accuracy: 0.7500\n",
            "Epoch 18/50\n",
            "7/7 [==============================] - 0s 38ms/step - loss: 0.0320 - accuracy: 0.9949 - val_loss: 0.8169 - val_accuracy: 0.7092\n",
            "Epoch 19/50\n",
            "7/7 [==============================] - 0s 33ms/step - loss: 0.0261 - accuracy: 0.9936 - val_loss: 0.7785 - val_accuracy: 0.7245\n",
            "Epoch 20/50\n",
            "7/7 [==============================] - 0s 30ms/step - loss: 0.0202 - accuracy: 0.9962 - val_loss: 1.0289 - val_accuracy: 0.6837\n",
            "Epoch 21/50\n",
            "7/7 [==============================] - 0s 30ms/step - loss: 0.0276 - accuracy: 0.9962 - val_loss: 0.6756 - val_accuracy: 0.7602\n",
            "Epoch 22/50\n",
            "7/7 [==============================] - 0s 30ms/step - loss: 0.0231 - accuracy: 0.9962 - val_loss: 0.7253 - val_accuracy: 0.7296\n",
            "Epoch 23/50\n",
            "7/7 [==============================] - 0s 31ms/step - loss: 0.0221 - accuracy: 0.9962 - val_loss: 0.7069 - val_accuracy: 0.7500\n",
            "Epoch 24/50\n",
            "7/7 [==============================] - 0s 30ms/step - loss: 0.0185 - accuracy: 0.9974 - val_loss: 0.8475 - val_accuracy: 0.7398\n",
            "Epoch 25/50\n",
            "7/7 [==============================] - 0s 30ms/step - loss: 0.0168 - accuracy: 0.9962 - val_loss: 0.8063 - val_accuracy: 0.7653\n",
            "Epoch 26/50\n",
            "7/7 [==============================] - 0s 32ms/step - loss: 0.0142 - accuracy: 0.9962 - val_loss: 0.7902 - val_accuracy: 0.7551\n",
            "Epoch 27/50\n",
            "7/7 [==============================] - 0s 31ms/step - loss: 0.0123 - accuracy: 0.9974 - val_loss: 0.8528 - val_accuracy: 0.7449\n",
            "Epoch 28/50\n",
            "7/7 [==============================] - 0s 31ms/step - loss: 0.0118 - accuracy: 0.9974 - val_loss: 0.8770 - val_accuracy: 0.7500\n",
            "Epoch 29/50\n",
            "7/7 [==============================] - 0s 29ms/step - loss: 0.0106 - accuracy: 0.9974 - val_loss: 1.0286 - val_accuracy: 0.7296\n",
            "Epoch 30/50\n",
            "7/7 [==============================] - 0s 31ms/step - loss: 0.0094 - accuracy: 0.9974 - val_loss: 0.9167 - val_accuracy: 0.7500\n",
            "Epoch 31/50\n",
            "7/7 [==============================] - 0s 33ms/step - loss: 0.0092 - accuracy: 0.9974 - val_loss: 1.0534 - val_accuracy: 0.7194\n",
            "Epoch 32/50\n",
            "7/7 [==============================] - 0s 39ms/step - loss: 0.0101 - accuracy: 0.9974 - val_loss: 0.8892 - val_accuracy: 0.7602\n",
            "Epoch 33/50\n",
            "7/7 [==============================] - 0s 39ms/step - loss: 0.0104 - accuracy: 0.9974 - val_loss: 0.8862 - val_accuracy: 0.7194\n",
            "Epoch 34/50\n",
            "7/7 [==============================] - 0s 35ms/step - loss: 0.0404 - accuracy: 0.9949 - val_loss: 1.3533 - val_accuracy: 0.6735\n",
            "Epoch 35/50\n",
            "7/7 [==============================] - 0s 32ms/step - loss: 0.1891 - accuracy: 0.9282 - val_loss: 0.8162 - val_accuracy: 0.7143\n",
            "Epoch 36/50\n",
            "7/7 [==============================] - 0s 30ms/step - loss: 0.0765 - accuracy: 0.9910 - val_loss: 0.7153 - val_accuracy: 0.7092\n",
            "Epoch 37/50\n",
            "7/7 [==============================] - 0s 31ms/step - loss: 0.0737 - accuracy: 0.9923 - val_loss: 0.7175 - val_accuracy: 0.6990\n",
            "Epoch 38/50\n",
            "7/7 [==============================] - 0s 32ms/step - loss: 0.0689 - accuracy: 0.9885 - val_loss: 0.7370 - val_accuracy: 0.6888\n",
            "Epoch 39/50\n",
            "7/7 [==============================] - 0s 31ms/step - loss: 0.0557 - accuracy: 0.9897 - val_loss: 0.7581 - val_accuracy: 0.6939\n",
            "Epoch 40/50\n",
            "7/7 [==============================] - 0s 31ms/step - loss: 0.0436 - accuracy: 0.9897 - val_loss: 0.7838 - val_accuracy: 0.6888\n",
            "Epoch 41/50\n",
            "7/7 [==============================] - 0s 32ms/step - loss: 0.0358 - accuracy: 0.9923 - val_loss: 0.8095 - val_accuracy: 0.6939\n",
            "Epoch 42/50\n",
            "7/7 [==============================] - 0s 30ms/step - loss: 0.0297 - accuracy: 0.9949 - val_loss: 0.8322 - val_accuracy: 0.6990\n",
            "Epoch 43/50\n",
            "7/7 [==============================] - 0s 35ms/step - loss: 0.0256 - accuracy: 0.9949 - val_loss: 0.8491 - val_accuracy: 0.6990\n",
            "Epoch 44/50\n",
            "7/7 [==============================] - 0s 30ms/step - loss: 0.0221 - accuracy: 0.9974 - val_loss: 0.8603 - val_accuracy: 0.7041\n",
            "Epoch 45/50\n",
            "7/7 [==============================] - 0s 34ms/step - loss: 0.0198 - accuracy: 0.9974 - val_loss: 0.8720 - val_accuracy: 0.7041\n",
            "Epoch 46/50\n",
            "7/7 [==============================] - 0s 32ms/step - loss: 0.0180 - accuracy: 0.9974 - val_loss: 0.8885 - val_accuracy: 0.7041\n",
            "Epoch 47/50\n",
            "7/7 [==============================] - 0s 33ms/step - loss: 0.0164 - accuracy: 0.9974 - val_loss: 0.9074 - val_accuracy: 0.7041\n",
            "Epoch 48/50\n",
            "7/7 [==============================] - 0s 31ms/step - loss: 0.0151 - accuracy: 0.9974 - val_loss: 0.9222 - val_accuracy: 0.7041\n",
            "Epoch 49/50\n",
            "7/7 [==============================] - 0s 31ms/step - loss: 0.0139 - accuracy: 0.9974 - val_loss: 0.9400 - val_accuracy: 0.7041\n",
            "Epoch 50/50\n",
            "7/7 [==============================] - 0s 31ms/step - loss: 0.0129 - accuracy: 0.9974 - val_loss: 0.9541 - val_accuracy: 0.7041\n"
          ],
          "name": "stdout"
        },
        {
          "output_type": "execute_result",
          "data": {
            "text/plain": [
              "<tensorflow.python.keras.callbacks.History at 0x7f8eea276780>"
            ]
          },
          "metadata": {
            "tags": []
          },
          "execution_count": 23
        }
      ]
    },
    {
      "cell_type": "code",
      "metadata": {
        "id": "jk88z8R8h-bq"
      },
      "source": [
        "from imblearn.over_sampling import SMOTE\n",
        "from imblearn.under_sampling import EditedNearestNeighbours\n",
        "from imblearn.combine import SMOTETomek"
      ],
      "execution_count": null,
      "outputs": []
    },
    {
      "cell_type": "code",
      "metadata": {
        "id": "2YcpbrSwaiqa"
      },
      "source": [
        "sm = SMOTE()\n",
        "\n",
        "X_train_res, y_train_res = sm.fit_resample(X_train, y_train)"
      ],
      "execution_count": null,
      "outputs": []
    },
    {
      "cell_type": "code",
      "metadata": {
        "id": "tsW5WH7paktV",
        "colab": {
          "base_uri": "https://localhost:8080/",
          "height": 34
        },
        "outputId": "9448db4e-87ec-4484-f995-44ca58369e17"
      },
      "source": [
        "from collections import Counter\n",
        "Counter(y_train_res)"
      ],
      "execution_count": null,
      "outputs": [
        {
          "output_type": "execute_result",
          "data": {
            "text/plain": [
              "Counter({0: 398, 1: 398})"
            ]
          },
          "metadata": {
            "tags": []
          },
          "execution_count": 27
        }
      ]
    },
    {
      "cell_type": "code",
      "metadata": {
        "id": "kRfKLJNJanCC"
      },
      "source": [
        ""
      ],
      "execution_count": null,
      "outputs": []
    }
  ]
}