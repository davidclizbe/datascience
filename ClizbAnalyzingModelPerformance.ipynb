{
  "nbformat": 4,
  "nbformat_minor": 0,
  "metadata": {
    "colab": {
      "name": "ClizbAnalyzingModelPerformance.ipynb",
      "provenance": [],
      "collapsed_sections": [],
      "include_colab_link": true
    },
    "kernelspec": {
      "name": "python3",
      "display_name": "Python 3"
    }
  },
  "cells": [
    {
      "cell_type": "markdown",
      "metadata": {
        "id": "view-in-github",
        "colab_type": "text"
      },
      "source": [
        "<a href=\"https://colab.research.google.com/github/davidclizbe/datascience/blob/master/ClizbAnalyzingModelPerformance.ipynb\" target=\"_parent\"><img src=\"https://colab.research.google.com/assets/colab-badge.svg\" alt=\"Open In Colab\"/></a>"
      ]
    },
    {
      "cell_type": "code",
      "metadata": {
        "id": "GIAJ7t-c8oaS"
      },
      "source": [
        "import pandas as pd\n",
        "import numpy as np\n",
        "from sklearn.model_selection import train_test_split\n",
        "from sklearn.linear_model import LogisticRegression\n",
        "import matplotlib.pyplot as plt\n",
        "from sklearn.dummy import DummyClassifier\n",
        "from sklearn.metrics import accuracy_score, precision_score, recall_score, f1_score, fbeta_score, classification_report\n",
        "from sklearn.metrics import roc_curve, precision_recall_curve, roc_auc_score\n",
        "\n",
        "\n",
        "\n",
        "#KNeighborsClassifier\n",
        "#LogisticRegressionClassifier\n",
        "#RandomForestClassifier"
      ],
      "execution_count": null,
      "outputs": []
    },
    {
      "cell_type": "markdown",
      "metadata": {
        "id": "_gm4WjbTD5YC"
      },
      "source": [
        "Load the training data into a dataframe named df_train_data "
      ]
    },
    {
      "cell_type": "code",
      "metadata": {
        "id": "gIfWBhIn8P7w",
        "colab": {
          "base_uri": "https://localhost:8080/",
          "height": 203
        },
        "outputId": "91b1d2b8-85f0-4395-a652-78ea6c236a98"
      },
      "source": [
        "data= pd.read_csv('http://archive.ics.uci.edu/ml/machine-learning-databases/statlog/shuttle/shuttle.tst', header= None, sep= ' ')\n",
        "\n",
        "data.head()"
      ],
      "execution_count": null,
      "outputs": [
        {
          "output_type": "execute_result",
          "data": {
            "text/html": [
              "<div>\n",
              "<style scoped>\n",
              "    .dataframe tbody tr th:only-of-type {\n",
              "        vertical-align: middle;\n",
              "    }\n",
              "\n",
              "    .dataframe tbody tr th {\n",
              "        vertical-align: top;\n",
              "    }\n",
              "\n",
              "    .dataframe thead th {\n",
              "        text-align: right;\n",
              "    }\n",
              "</style>\n",
              "<table border=\"1\" class=\"dataframe\">\n",
              "  <thead>\n",
              "    <tr style=\"text-align: right;\">\n",
              "      <th></th>\n",
              "      <th>0</th>\n",
              "      <th>1</th>\n",
              "      <th>2</th>\n",
              "      <th>3</th>\n",
              "      <th>4</th>\n",
              "      <th>5</th>\n",
              "      <th>6</th>\n",
              "      <th>7</th>\n",
              "      <th>8</th>\n",
              "      <th>9</th>\n",
              "    </tr>\n",
              "  </thead>\n",
              "  <tbody>\n",
              "    <tr>\n",
              "      <th>0</th>\n",
              "      <td>55</td>\n",
              "      <td>0</td>\n",
              "      <td>81</td>\n",
              "      <td>0</td>\n",
              "      <td>-6</td>\n",
              "      <td>11</td>\n",
              "      <td>25</td>\n",
              "      <td>88</td>\n",
              "      <td>64</td>\n",
              "      <td>4</td>\n",
              "    </tr>\n",
              "    <tr>\n",
              "      <th>1</th>\n",
              "      <td>56</td>\n",
              "      <td>0</td>\n",
              "      <td>96</td>\n",
              "      <td>0</td>\n",
              "      <td>52</td>\n",
              "      <td>-4</td>\n",
              "      <td>40</td>\n",
              "      <td>44</td>\n",
              "      <td>4</td>\n",
              "      <td>4</td>\n",
              "    </tr>\n",
              "    <tr>\n",
              "      <th>2</th>\n",
              "      <td>50</td>\n",
              "      <td>-1</td>\n",
              "      <td>89</td>\n",
              "      <td>-7</td>\n",
              "      <td>50</td>\n",
              "      <td>0</td>\n",
              "      <td>39</td>\n",
              "      <td>40</td>\n",
              "      <td>2</td>\n",
              "      <td>1</td>\n",
              "    </tr>\n",
              "    <tr>\n",
              "      <th>3</th>\n",
              "      <td>53</td>\n",
              "      <td>9</td>\n",
              "      <td>79</td>\n",
              "      <td>0</td>\n",
              "      <td>42</td>\n",
              "      <td>-2</td>\n",
              "      <td>25</td>\n",
              "      <td>37</td>\n",
              "      <td>12</td>\n",
              "      <td>4</td>\n",
              "    </tr>\n",
              "    <tr>\n",
              "      <th>4</th>\n",
              "      <td>55</td>\n",
              "      <td>2</td>\n",
              "      <td>82</td>\n",
              "      <td>0</td>\n",
              "      <td>54</td>\n",
              "      <td>-6</td>\n",
              "      <td>26</td>\n",
              "      <td>28</td>\n",
              "      <td>2</td>\n",
              "      <td>1</td>\n",
              "    </tr>\n",
              "  </tbody>\n",
              "</table>\n",
              "</div>"
            ],
            "text/plain": [
              "    0  1   2  3   4   5   6   7   8  9\n",
              "0  55  0  81  0  -6  11  25  88  64  4\n",
              "1  56  0  96  0  52  -4  40  44   4  4\n",
              "2  50 -1  89 -7  50   0  39  40   2  1\n",
              "3  53  9  79  0  42  -2  25  37  12  4\n",
              "4  55  2  82  0  54  -6  26  28   2  1"
            ]
          },
          "metadata": {
            "tags": []
          },
          "execution_count": 46
        }
      ]
    },
    {
      "cell_type": "code",
      "metadata": {
        "id": "WFn4AuLc8woO",
        "colab": {
          "base_uri": "https://localhost:8080/",
          "height": 203
        },
        "outputId": "f938afe5-92ee-42fc-b1a8-ea38734b068c"
      },
      "source": [
        "data.columns = ['a', 'b', 'c', 'd', 'e', 'f', 'g', 'h', 'i', 'target']\n",
        "data.head()"
      ],
      "execution_count": null,
      "outputs": [
        {
          "output_type": "execute_result",
          "data": {
            "text/html": [
              "<div>\n",
              "<style scoped>\n",
              "    .dataframe tbody tr th:only-of-type {\n",
              "        vertical-align: middle;\n",
              "    }\n",
              "\n",
              "    .dataframe tbody tr th {\n",
              "        vertical-align: top;\n",
              "    }\n",
              "\n",
              "    .dataframe thead th {\n",
              "        text-align: right;\n",
              "    }\n",
              "</style>\n",
              "<table border=\"1\" class=\"dataframe\">\n",
              "  <thead>\n",
              "    <tr style=\"text-align: right;\">\n",
              "      <th></th>\n",
              "      <th>a</th>\n",
              "      <th>b</th>\n",
              "      <th>c</th>\n",
              "      <th>d</th>\n",
              "      <th>e</th>\n",
              "      <th>f</th>\n",
              "      <th>g</th>\n",
              "      <th>h</th>\n",
              "      <th>i</th>\n",
              "      <th>target</th>\n",
              "    </tr>\n",
              "  </thead>\n",
              "  <tbody>\n",
              "    <tr>\n",
              "      <th>0</th>\n",
              "      <td>55</td>\n",
              "      <td>0</td>\n",
              "      <td>81</td>\n",
              "      <td>0</td>\n",
              "      <td>-6</td>\n",
              "      <td>11</td>\n",
              "      <td>25</td>\n",
              "      <td>88</td>\n",
              "      <td>64</td>\n",
              "      <td>4</td>\n",
              "    </tr>\n",
              "    <tr>\n",
              "      <th>1</th>\n",
              "      <td>56</td>\n",
              "      <td>0</td>\n",
              "      <td>96</td>\n",
              "      <td>0</td>\n",
              "      <td>52</td>\n",
              "      <td>-4</td>\n",
              "      <td>40</td>\n",
              "      <td>44</td>\n",
              "      <td>4</td>\n",
              "      <td>4</td>\n",
              "    </tr>\n",
              "    <tr>\n",
              "      <th>2</th>\n",
              "      <td>50</td>\n",
              "      <td>-1</td>\n",
              "      <td>89</td>\n",
              "      <td>-7</td>\n",
              "      <td>50</td>\n",
              "      <td>0</td>\n",
              "      <td>39</td>\n",
              "      <td>40</td>\n",
              "      <td>2</td>\n",
              "      <td>1</td>\n",
              "    </tr>\n",
              "    <tr>\n",
              "      <th>3</th>\n",
              "      <td>53</td>\n",
              "      <td>9</td>\n",
              "      <td>79</td>\n",
              "      <td>0</td>\n",
              "      <td>42</td>\n",
              "      <td>-2</td>\n",
              "      <td>25</td>\n",
              "      <td>37</td>\n",
              "      <td>12</td>\n",
              "      <td>4</td>\n",
              "    </tr>\n",
              "    <tr>\n",
              "      <th>4</th>\n",
              "      <td>55</td>\n",
              "      <td>2</td>\n",
              "      <td>82</td>\n",
              "      <td>0</td>\n",
              "      <td>54</td>\n",
              "      <td>-6</td>\n",
              "      <td>26</td>\n",
              "      <td>28</td>\n",
              "      <td>2</td>\n",
              "      <td>1</td>\n",
              "    </tr>\n",
              "  </tbody>\n",
              "</table>\n",
              "</div>"
            ],
            "text/plain": [
              "    a  b   c  d   e   f   g   h   i  target\n",
              "0  55  0  81  0  -6  11  25  88  64       4\n",
              "1  56  0  96  0  52  -4  40  44   4       4\n",
              "2  50 -1  89 -7  50   0  39  40   2       1\n",
              "3  53  9  79  0  42  -2  25  37  12       4\n",
              "4  55  2  82  0  54  -6  26  28   2       1"
            ]
          },
          "metadata": {
            "tags": []
          },
          "execution_count": 47
        }
      ]
    },
    {
      "cell_type": "code",
      "metadata": {
        "id": "fJ2c2SKxI_Lb"
      },
      "source": [
        "### let's drop the minor classes or just to 1 vs rest \n",
        "data['target'] =data.target.apply(lambda x: 1 if x ==1 else 0 )"
      ],
      "execution_count": null,
      "outputs": []
    },
    {
      "cell_type": "markdown",
      "metadata": {
        "id": "ldzArE7pEJGI"
      },
      "source": [
        "Create binary classification problem - rename some class labels"
      ]
    },
    {
      "cell_type": "code",
      "metadata": {
        "id": "I3f73FwJ_kNI",
        "colab": {
          "base_uri": "https://localhost:8080/",
          "height": 35
        },
        "outputId": "bf21b902-c574-4b51-fc88-ffe69a2e7e41"
      },
      "source": [
        "data.target.unique() "
      ],
      "execution_count": null,
      "outputs": [
        {
          "output_type": "execute_result",
          "data": {
            "text/plain": [
              "array([0, 1])"
            ]
          },
          "metadata": {
            "tags": []
          },
          "execution_count": 49
        }
      ]
    },
    {
      "cell_type": "code",
      "metadata": {
        "id": "1DeIULeT_iTh",
        "colab": {
          "base_uri": "https://localhost:8080/",
          "height": 338
        },
        "outputId": "38ab412d-496a-47fb-b46a-0b3daa191246"
      },
      "source": [
        "plt.hist(data.target)"
      ],
      "execution_count": null,
      "outputs": [
        {
          "output_type": "execute_result",
          "data": {
            "text/plain": [
              "(array([ 3022.,     0.,     0.,     0.,     0.,     0.,     0.,     0.,\n",
              "            0., 11478.]),\n",
              " array([0. , 0.1, 0.2, 0.3, 0.4, 0.5, 0.6, 0.7, 0.8, 0.9, 1. ]),\n",
              " <a list of 10 Patch objects>)"
            ]
          },
          "metadata": {
            "tags": []
          },
          "execution_count": 50
        },
        {
          "output_type": "display_data",
          "data": {
            "image/png": "[encoded data removed]",
            "text/plain": [
              "<Figure size 432x288 with 1 Axes>"
            ]
          },
          "metadata": {
            "tags": [],
            "needs_background": "light"
          }
        }
      ]
    },
    {
      "cell_type": "markdown",
      "metadata": {
        "id": "nJsv0xuVEMOB"
      },
      "source": [
        "Create a dataframe of 9 features named X, drop column 9."
      ]
    },
    {
      "cell_type": "code",
      "metadata": {
        "id": "Ees8xQckEOuF",
        "colab": {
          "base_uri": "https://localhost:8080/",
          "height": 203
        },
        "outputId": "e182b859-a0e9-4351-fdcf-4f5014b421d8"
      },
      "source": [
        "X= data.drop(['target'], axis= 1)\n",
        "X.head()"
      ],
      "execution_count": null,
      "outputs": [
        {
          "output_type": "execute_result",
          "data": {
            "text/html": [
              "<div>\n",
              "<style scoped>\n",
              "    .dataframe tbody tr th:only-of-type {\n",
              "        vertical-align: middle;\n",
              "    }\n",
              "\n",
              "    .dataframe tbody tr th {\n",
              "        vertical-align: top;\n",
              "    }\n",
              "\n",
              "    .dataframe thead th {\n",
              "        text-align: right;\n",
              "    }\n",
              "</style>\n",
              "<table border=\"1\" class=\"dataframe\">\n",
              "  <thead>\n",
              "    <tr style=\"text-align: right;\">\n",
              "      <th></th>\n",
              "      <th>a</th>\n",
              "      <th>b</th>\n",
              "      <th>c</th>\n",
              "      <th>d</th>\n",
              "      <th>e</th>\n",
              "      <th>f</th>\n",
              "      <th>g</th>\n",
              "      <th>h</th>\n",
              "      <th>i</th>\n",
              "    </tr>\n",
              "  </thead>\n",
              "  <tbody>\n",
              "    <tr>\n",
              "      <th>0</th>\n",
              "      <td>55</td>\n",
              "      <td>0</td>\n",
              "      <td>81</td>\n",
              "      <td>0</td>\n",
              "      <td>-6</td>\n",
              "      <td>11</td>\n",
              "      <td>25</td>\n",
              "      <td>88</td>\n",
              "      <td>64</td>\n",
              "    </tr>\n",
              "    <tr>\n",
              "      <th>1</th>\n",
              "      <td>56</td>\n",
              "      <td>0</td>\n",
              "      <td>96</td>\n",
              "      <td>0</td>\n",
              "      <td>52</td>\n",
              "      <td>-4</td>\n",
              "      <td>40</td>\n",
              "      <td>44</td>\n",
              "      <td>4</td>\n",
              "    </tr>\n",
              "    <tr>\n",
              "      <th>2</th>\n",
              "      <td>50</td>\n",
              "      <td>-1</td>\n",
              "      <td>89</td>\n",
              "      <td>-7</td>\n",
              "      <td>50</td>\n",
              "      <td>0</td>\n",
              "      <td>39</td>\n",
              "      <td>40</td>\n",
              "      <td>2</td>\n",
              "    </tr>\n",
              "    <tr>\n",
              "      <th>3</th>\n",
              "      <td>53</td>\n",
              "      <td>9</td>\n",
              "      <td>79</td>\n",
              "      <td>0</td>\n",
              "      <td>42</td>\n",
              "      <td>-2</td>\n",
              "      <td>25</td>\n",
              "      <td>37</td>\n",
              "      <td>12</td>\n",
              "    </tr>\n",
              "    <tr>\n",
              "      <th>4</th>\n",
              "      <td>55</td>\n",
              "      <td>2</td>\n",
              "      <td>82</td>\n",
              "      <td>0</td>\n",
              "      <td>54</td>\n",
              "      <td>-6</td>\n",
              "      <td>26</td>\n",
              "      <td>28</td>\n",
              "      <td>2</td>\n",
              "    </tr>\n",
              "  </tbody>\n",
              "</table>\n",
              "</div>"
            ],
            "text/plain": [
              "    a  b   c  d   e   f   g   h   i\n",
              "0  55  0  81  0  -6  11  25  88  64\n",
              "1  56  0  96  0  52  -4  40  44   4\n",
              "2  50 -1  89 -7  50   0  39  40   2\n",
              "3  53  9  79  0  42  -2  25  37  12\n",
              "4  55  2  82  0  54  -6  26  28   2"
            ]
          },
          "metadata": {
            "tags": []
          },
          "execution_count": 51
        }
      ]
    },
    {
      "cell_type": "markdown",
      "metadata": {
        "id": "zjs4NucDEPJM"
      },
      "source": [
        "Create a data frame of labels named y, select only column 9."
      ]
    },
    {
      "cell_type": "code",
      "metadata": {
        "id": "qJt6CbqsEStC",
        "colab": {
          "base_uri": "https://localhost:8080/",
          "height": 123
        },
        "outputId": "71fbb3c3-58c5-4e63-b462-7ebc40eb66ce"
      },
      "source": [
        "y= data['target']\n",
        "y.head()"
      ],
      "execution_count": null,
      "outputs": [
        {
          "output_type": "execute_result",
          "data": {
            "text/plain": [
              "0    0\n",
              "1    0\n",
              "2    1\n",
              "3    0\n",
              "4    1\n",
              "Name: target, dtype: int64"
            ]
          },
          "metadata": {
            "tags": []
          },
          "execution_count": 52
        }
      ]
    },
    {
      "cell_type": "markdown",
      "metadata": {
        "id": "gz_oRJRRETOb"
      },
      "source": [
        "Split the data into a training set and a test set."
      ]
    },
    {
      "cell_type": "code",
      "metadata": {
        "id": "ppos21V0EXG5",
        "colab": {
          "base_uri": "https://localhost:8080/",
          "height": 203
        },
        "outputId": "6c8ed9d4-cb48-4bf7-e810-7ddf10eec4a0"
      },
      "source": [
        "X_train, X_test, y_train, y_test = train_test_split(X, y, test_size=0.2, shuffle=True)\n",
        "X_train.head()"
      ],
      "execution_count": null,
      "outputs": [
        {
          "output_type": "execute_result",
          "data": {
            "text/html": [
              "<div>\n",
              "<style scoped>\n",
              "    .dataframe tbody tr th:only-of-type {\n",
              "        vertical-align: middle;\n",
              "    }\n",
              "\n",
              "    .dataframe tbody tr th {\n",
              "        vertical-align: top;\n",
              "    }\n",
              "\n",
              "    .dataframe thead th {\n",
              "        text-align: right;\n",
              "    }\n",
              "</style>\n",
              "<table border=\"1\" class=\"dataframe\">\n",
              "  <thead>\n",
              "    <tr style=\"text-align: right;\">\n",
              "      <th></th>\n",
              "      <th>a</th>\n",
              "      <th>b</th>\n",
              "      <th>c</th>\n",
              "      <th>d</th>\n",
              "      <th>e</th>\n",
              "      <th>f</th>\n",
              "      <th>g</th>\n",
              "      <th>h</th>\n",
              "      <th>i</th>\n",
              "    </tr>\n",
              "  </thead>\n",
              "  <tbody>\n",
              "    <tr>\n",
              "      <th>4778</th>\n",
              "      <td>51</td>\n",
              "      <td>0</td>\n",
              "      <td>78</td>\n",
              "      <td>-2</td>\n",
              "      <td>50</td>\n",
              "      <td>-8</td>\n",
              "      <td>27</td>\n",
              "      <td>29</td>\n",
              "      <td>2</td>\n",
              "    </tr>\n",
              "    <tr>\n",
              "      <th>4676</th>\n",
              "      <td>39</td>\n",
              "      <td>0</td>\n",
              "      <td>81</td>\n",
              "      <td>-1</td>\n",
              "      <td>38</td>\n",
              "      <td>0</td>\n",
              "      <td>42</td>\n",
              "      <td>43</td>\n",
              "      <td>0</td>\n",
              "    </tr>\n",
              "    <tr>\n",
              "      <th>14460</th>\n",
              "      <td>49</td>\n",
              "      <td>0</td>\n",
              "      <td>84</td>\n",
              "      <td>0</td>\n",
              "      <td>50</td>\n",
              "      <td>23</td>\n",
              "      <td>35</td>\n",
              "      <td>35</td>\n",
              "      <td>0</td>\n",
              "    </tr>\n",
              "    <tr>\n",
              "      <th>11617</th>\n",
              "      <td>42</td>\n",
              "      <td>-2</td>\n",
              "      <td>84</td>\n",
              "      <td>-7</td>\n",
              "      <td>42</td>\n",
              "      <td>0</td>\n",
              "      <td>42</td>\n",
              "      <td>43</td>\n",
              "      <td>0</td>\n",
              "    </tr>\n",
              "    <tr>\n",
              "      <th>12637</th>\n",
              "      <td>81</td>\n",
              "      <td>0</td>\n",
              "      <td>84</td>\n",
              "      <td>0</td>\n",
              "      <td>-18</td>\n",
              "      <td>22</td>\n",
              "      <td>4</td>\n",
              "      <td>103</td>\n",
              "      <td>98</td>\n",
              "    </tr>\n",
              "  </tbody>\n",
              "</table>\n",
              "</div>"
            ],
            "text/plain": [
              "        a  b   c  d   e   f   g    h   i\n",
              "4778   51  0  78 -2  50  -8  27   29   2\n",
              "4676   39  0  81 -1  38   0  42   43   0\n",
              "14460  49  0  84  0  50  23  35   35   0\n",
              "11617  42 -2  84 -7  42   0  42   43   0\n",
              "12637  81  0  84  0 -18  22   4  103  98"
            ]
          },
          "metadata": {
            "tags": []
          },
          "execution_count": 53
        }
      ]
    },
    {
      "cell_type": "code",
      "metadata": {
        "id": "q5_D2YLEDlDI",
        "colab": {
          "base_uri": "https://localhost:8080/",
          "height": 123
        },
        "outputId": "07d04ab1-8fe0-4212-fdaf-053f4046b036"
      },
      "source": [
        "y_train.head()"
      ],
      "execution_count": null,
      "outputs": [
        {
          "output_type": "execute_result",
          "data": {
            "text/plain": [
              "4778     1\n",
              "4676     1\n",
              "14460    1\n",
              "11617    1\n",
              "12637    0\n",
              "Name: target, dtype: int64"
            ]
          },
          "metadata": {
            "tags": []
          },
          "execution_count": 54
        }
      ]
    },
    {
      "cell_type": "code",
      "metadata": {
        "id": "tXLxsScrDnZm",
        "colab": {
          "base_uri": "https://localhost:8080/",
          "height": 203
        },
        "outputId": "bce958ae-c36f-4872-f4d0-b528ca7bf5cd"
      },
      "source": [
        "X_test.head()"
      ],
      "execution_count": null,
      "outputs": [
        {
          "output_type": "execute_result",
          "data": {
            "text/html": [
              "<div>\n",
              "<style scoped>\n",
              "    .dataframe tbody tr th:only-of-type {\n",
              "        vertical-align: middle;\n",
              "    }\n",
              "\n",
              "    .dataframe tbody tr th {\n",
              "        vertical-align: top;\n",
              "    }\n",
              "\n",
              "    .dataframe thead th {\n",
              "        text-align: right;\n",
              "    }\n",
              "</style>\n",
              "<table border=\"1\" class=\"dataframe\">\n",
              "  <thead>\n",
              "    <tr style=\"text-align: right;\">\n",
              "      <th></th>\n",
              "      <th>a</th>\n",
              "      <th>b</th>\n",
              "      <th>c</th>\n",
              "      <th>d</th>\n",
              "      <th>e</th>\n",
              "      <th>f</th>\n",
              "      <th>g</th>\n",
              "      <th>h</th>\n",
              "      <th>i</th>\n",
              "    </tr>\n",
              "  </thead>\n",
              "  <tbody>\n",
              "    <tr>\n",
              "      <th>644</th>\n",
              "      <td>44</td>\n",
              "      <td>1</td>\n",
              "      <td>84</td>\n",
              "      <td>0</td>\n",
              "      <td>42</td>\n",
              "      <td>-24</td>\n",
              "      <td>41</td>\n",
              "      <td>43</td>\n",
              "      <td>2</td>\n",
              "    </tr>\n",
              "    <tr>\n",
              "      <th>13086</th>\n",
              "      <td>41</td>\n",
              "      <td>2</td>\n",
              "      <td>80</td>\n",
              "      <td>0</td>\n",
              "      <td>42</td>\n",
              "      <td>4</td>\n",
              "      <td>39</td>\n",
              "      <td>39</td>\n",
              "      <td>0</td>\n",
              "    </tr>\n",
              "    <tr>\n",
              "      <th>14403</th>\n",
              "      <td>49</td>\n",
              "      <td>0</td>\n",
              "      <td>79</td>\n",
              "      <td>0</td>\n",
              "      <td>46</td>\n",
              "      <td>-19</td>\n",
              "      <td>31</td>\n",
              "      <td>33</td>\n",
              "      <td>2</td>\n",
              "    </tr>\n",
              "    <tr>\n",
              "      <th>9410</th>\n",
              "      <td>37</td>\n",
              "      <td>0</td>\n",
              "      <td>93</td>\n",
              "      <td>0</td>\n",
              "      <td>12</td>\n",
              "      <td>29</td>\n",
              "      <td>56</td>\n",
              "      <td>81</td>\n",
              "      <td>24</td>\n",
              "    </tr>\n",
              "    <tr>\n",
              "      <th>9714</th>\n",
              "      <td>45</td>\n",
              "      <td>0</td>\n",
              "      <td>81</td>\n",
              "      <td>0</td>\n",
              "      <td>44</td>\n",
              "      <td>-28</td>\n",
              "      <td>36</td>\n",
              "      <td>37</td>\n",
              "      <td>2</td>\n",
              "    </tr>\n",
              "  </tbody>\n",
              "</table>\n",
              "</div>"
            ],
            "text/plain": [
              "        a  b   c  d   e   f   g   h   i\n",
              "644    44  1  84  0  42 -24  41  43   2\n",
              "13086  41  2  80  0  42   4  39  39   0\n",
              "14403  49  0  79  0  46 -19  31  33   2\n",
              "9410   37  0  93  0  12  29  56  81  24\n",
              "9714   45  0  81  0  44 -28  36  37   2"
            ]
          },
          "metadata": {
            "tags": []
          },
          "execution_count": 55
        }
      ]
    },
    {
      "cell_type": "code",
      "metadata": {
        "id": "B6ksY-iADqd0",
        "colab": {
          "base_uri": "https://localhost:8080/",
          "height": 123
        },
        "outputId": "8cf8bbf4-5b82-43ca-d2d8-c5d83650bf28"
      },
      "source": [
        "y_test.head()"
      ],
      "execution_count": null,
      "outputs": [
        {
          "output_type": "execute_result",
          "data": {
            "text/plain": [
              "644      1\n",
              "13086    1\n",
              "14403    1\n",
              "9410     1\n",
              "9714     1\n",
              "Name: target, dtype: int64"
            ]
          },
          "metadata": {
            "tags": []
          },
          "execution_count": 56
        }
      ]
    },
    {
      "cell_type": "markdown",
      "metadata": {
        "id": "kCAU5NvAEalw"
      },
      "source": [
        "Instantiate a Logistic Regression classifier with a lbfgs solver."
      ]
    },
    {
      "cell_type": "code",
      "metadata": {
        "id": "ldNsDafZEcF3",
        "colab": {
          "base_uri": "https://localhost:8080/",
          "height": 158
        },
        "outputId": "db18a1a7-baf1-4179-edc0-76cba0fe4743"
      },
      "source": [
        "clf = LogisticRegression(random_state=0,).fit(X_train, y_train)"
      ],
      "execution_count": null,
      "outputs": [
        {
          "output_type": "stream",
          "text": [
            "/usr/local/lib/python3.6/dist-packages/sklearn/linear_model/_logistic.py:940: ConvergenceWarning: lbfgs failed to converge (status=1):\n",
            "STOP: TOTAL NO. of ITERATIONS REACHED LIMIT.\n",
            "\n",
            "Increase the number of iterations (max_iter) or scale the data as shown in:\n",
            "    https://scikit-learn.org/stable/modules/preprocessing.html\n",
            "Please also refer to the documentation for alternative solver options:\n",
            "    https://scikit-learn.org/stable/modules/linear_model.html#logistic-regression\n",
            "  extra_warning_msg=_LOGISTIC_SOLVER_CONVERGENCE_MSG)\n"
          ],
          "name": "stderr"
        }
      ]
    },
    {
      "cell_type": "code",
      "metadata": {
        "id": "8Dj_qvt6KGEH",
        "colab": {
          "base_uri": "https://localhost:8080/",
          "height": 35
        },
        "outputId": "609832c5-ca74-4257-81ff-3cfcfe25f2cb"
      },
      "source": [
        "clf.classes_"
      ],
      "execution_count": null,
      "outputs": [
        {
          "output_type": "execute_result",
          "data": {
            "text/plain": [
              "array([0, 1])"
            ]
          },
          "metadata": {
            "tags": []
          },
          "execution_count": 58
        }
      ]
    },
    {
      "cell_type": "markdown",
      "metadata": {
        "id": "Rf1svSAtEcus"
      },
      "source": [
        "Fit the classifier to the data."
      ]
    },
    {
      "cell_type": "code",
      "metadata": {
        "id": "g55QVzaMEfyb",
        "colab": {
          "base_uri": "https://localhost:8080/",
          "height": 35
        },
        "outputId": "3ab8ab48-f89b-4261-ddc7-7a4e62207a29"
      },
      "source": [
        "dummy = DummyClassifier(strategy = 'most_frequent')\n",
        "dummy.fit(X_train, y_train)\n",
        "dummy.score(X_test, y_test)"
      ],
      "execution_count": null,
      "outputs": [
        {
          "output_type": "execute_result",
          "data": {
            "text/plain": [
              "0.7875862068965517"
            ]
          },
          "metadata": {
            "tags": []
          },
          "execution_count": 59
        }
      ]
    },
    {
      "cell_type": "markdown",
      "metadata": {
        "id": "rSq8KZsmEgdz"
      },
      "source": [
        "Calculate and print the accuracy of the model on the test data."
      ]
    },
    {
      "cell_type": "code",
      "metadata": {
        "id": "OxAhhzFTEjqT",
        "colab": {
          "base_uri": "https://localhost:8080/",
          "height": 35
        },
        "outputId": "f896060a-d897-4b4d-ba1e-f86ddde08375"
      },
      "source": [
        "clf.score(X_train, y_train)"
      ],
      "execution_count": null,
      "outputs": [
        {
          "output_type": "execute_result",
          "data": {
            "text/plain": [
              "0.9337068965517241"
            ]
          },
          "metadata": {
            "tags": []
          },
          "execution_count": 60
        }
      ]
    },
    {
      "cell_type": "code",
      "metadata": {
        "id": "Zh4PnTGGEeXF",
        "colab": {
          "base_uri": "https://localhost:8080/",
          "height": 35
        },
        "outputId": "41d10da1-8794-4602-cc87-2d04901e4c96"
      },
      "source": [
        "clf.score(X_test, y_test)"
      ],
      "execution_count": null,
      "outputs": [
        {
          "output_type": "execute_result",
          "data": {
            "text/plain": [
              "0.9334482758620689"
            ]
          },
          "metadata": {
            "tags": []
          },
          "execution_count": 61
        }
      ]
    },
    {
      "cell_type": "markdown",
      "metadata": {
        "id": "OwSd9feMEkBu"
      },
      "source": [
        "Use the dummy classifier to calculate the accuracy of a purely random chance.\n",
        "\n",
        "Compare this result to the result of the logistic regression classifier above. What does this result tell you?"
      ]
    },
    {
      "cell_type": "code",
      "metadata": {
        "id": "au7LMotrEntf"
      },
      "source": [
        "y_pred = clf.predict(X_test)"
      ],
      "execution_count": null,
      "outputs": []
    },
    {
      "cell_type": "markdown",
      "metadata": {
        "id": "VovuAFPtEoBY"
      },
      "source": [
        "Print the confusion matrix."
      ]
    },
    {
      "cell_type": "code",
      "metadata": {
        "id": "__fw10mQEqL9",
        "colab": {
          "base_uri": "https://localhost:8080/",
          "height": 52
        },
        "outputId": "ddc9fdb1-366f-4395-9a84-d99f3036bc4c"
      },
      "source": [
        "from sklearn.metrics import confusion_matrix\n",
        "confusion_matrix(y_test, y_pred)"
      ],
      "execution_count": null,
      "outputs": [
        {
          "output_type": "execute_result",
          "data": {
            "text/plain": [
              "array([[ 473,  143],\n",
              "       [  50, 2234]])"
            ]
          },
          "metadata": {
            "tags": []
          },
          "execution_count": 63
        }
      ]
    },
    {
      "cell_type": "markdown",
      "metadata": {
        "id": "jAUZxOcNEqi2"
      },
      "source": [
        "Use the plot_confusion_matrix function from above to plot a nicer looking confusion matrix."
      ]
    },
    {
      "cell_type": "code",
      "metadata": {
        "id": "odQJ1e53EuYo",
        "colab": {
          "base_uri": "https://localhost:8080/",
          "height": 279
        },
        "outputId": "efdf4a58-b0be-4624-b932-e26152291eb6"
      },
      "source": [
        "import matplotlib.pyplot as plt\n",
        "from sklearn.metrics import plot_confusion_matrix\n",
        "\n",
        "plot_confusion_matrix(clf, X_test, y_test)  \n",
        "plt.show()"
      ],
      "execution_count": null,
      "outputs": [
        {
          "output_type": "display_data",
          "data": {
            "image/png": "[encoded data removed]",
            "text/plain": [
              "<Figure size 432x288 with 2 Axes>"
            ]
          },
          "metadata": {
            "tags": [],
            "needs_background": "light"
          }
        }
      ]
    },
    {
      "cell_type": "markdown",
      "metadata": {
        "id": "QBdXnJgmEuym"
      },
      "source": [
        "Print the F1, F beta, precision, recall and accuracy scores."
      ]
    },
    {
      "cell_type": "code",
      "metadata": {
        "id": "XmMfBMeOEwf4"
      },
      "source": [
        "accuracy = accuracy_score(y_test, y_pred)\n",
        "precision = precision_score(y_test, y_pred)\n",
        "recall = recall_score(y_test, y_pred)\n",
        "f1 = f1_score(y_test, y_pred)\n",
        "fbeta_precision = fbeta_score(y_test, y_pred, 0.5)\n",
        "fbeta_recall = fbeta_score(y_test, y_pred, 2)"
      ],
      "execution_count": null,
      "outputs": []
    },
    {
      "cell_type": "code",
      "metadata": {
        "id": "uEfZMQEIIvit",
        "colab": {
          "base_uri": "https://localhost:8080/",
          "height": 35
        },
        "outputId": "a25a9957-895a-4e30-8c5a-9db5949c9015"
      },
      "source": [
        "print('Accuracy score: {:.2f}'.format(accuracy))\n"
      ],
      "execution_count": null,
      "outputs": [
        {
          "output_type": "stream",
          "text": [
            "Accuracy score: 0.93\n"
          ],
          "name": "stdout"
        }
      ]
    },
    {
      "cell_type": "code",
      "metadata": {
        "id": "NrjdWk76IyRE",
        "colab": {
          "base_uri": "https://localhost:8080/",
          "height": 35
        },
        "outputId": "55d4640b-444f-4d6b-cc1a-f0a9de1997bf"
      },
      "source": [
        "print('precision', precision) "
      ],
      "execution_count": null,
      "outputs": [
        {
          "output_type": "stream",
          "text": [
            "precision 0.9398401346234749\n"
          ],
          "name": "stdout"
        }
      ]
    },
    {
      "cell_type": "code",
      "metadata": {
        "id": "pRGUoNUOI08R",
        "colab": {
          "base_uri": "https://localhost:8080/",
          "height": 35
        },
        "outputId": "4eab1a21-fc23-490c-de2b-2be733e2ac5c"
      },
      "source": [
        "print('Recall score:', recall)  \n"
      ],
      "execution_count": null,
      "outputs": [
        {
          "output_type": "stream",
          "text": [
            "Recall score: 0.978108581436077\n"
          ],
          "name": "stdout"
        }
      ]
    },
    {
      "cell_type": "code",
      "metadata": {
        "id": "H8-AymQzI369",
        "colab": {
          "base_uri": "https://localhost:8080/",
          "height": 35
        },
        "outputId": "7ff45dc0-29e6-4de1-acc9-aadb1a93b82b"
      },
      "source": [
        "print('F1 score', f1)"
      ],
      "execution_count": null,
      "outputs": [
        {
          "output_type": "stream",
          "text": [
            "F1 score 0.9585925767002789\n"
          ],
          "name": "stdout"
        }
      ]
    },
    {
      "cell_type": "code",
      "metadata": {
        "id": "uPWJELIKI6qI",
        "colab": {
          "base_uri": "https://localhost:8080/",
          "height": 35
        },
        "outputId": "6cf3cd49-be7a-4b93-fddc-a09697bd7f69"
      },
      "source": [
        "print('Fbeta score favoring precision', fbeta_precision) "
      ],
      "execution_count": null,
      "outputs": [
        {
          "output_type": "stream",
          "text": [
            "Fbeta score favoring precision 0.9472523744911803\n"
          ],
          "name": "stdout"
        }
      ]
    },
    {
      "cell_type": "code",
      "metadata": {
        "id": "mhhSZtl2I88m",
        "colab": {
          "base_uri": "https://localhost:8080/",
          "height": 35
        },
        "outputId": "69e4fbfc-aeed-41a1-fafb-7d126c4d571b"
      },
      "source": [
        "print('FBeta score favoring recall', fbeta_recall)"
      ],
      "execution_count": null,
      "outputs": [
        {
          "output_type": "stream",
          "text": [
            "FBeta score favoring recall 0.9702075914183964\n"
          ],
          "name": "stdout"
        }
      ]
    },
    {
      "cell_type": "markdown",
      "metadata": {
        "id": "OjeMzlTtEw10"
      },
      "source": [
        " Print a classification report"
      ]
    },
    {
      "cell_type": "code",
      "metadata": {
        "id": "DM-jmNT8EzDg",
        "colab": {
          "base_uri": "https://localhost:8080/",
          "height": 175
        },
        "outputId": "ef6c0f5b-33f7-4b39-ddc6-0bc654521ba8"
      },
      "source": [
        "print(classification_report(y_test, y_pred, labels=[0, 1]))"
      ],
      "execution_count": null,
      "outputs": [
        {
          "output_type": "stream",
          "text": [
            "              precision    recall  f1-score   support\n",
            "\n",
            "           0       0.90      0.77      0.83       616\n",
            "           1       0.94      0.98      0.96      2284\n",
            "\n",
            "    accuracy                           0.93      2900\n",
            "   macro avg       0.92      0.87      0.89      2900\n",
            "weighted avg       0.93      0.93      0.93      2900\n",
            "\n"
          ],
          "name": "stdout"
        }
      ]
    },
    {
      "cell_type": "markdown",
      "metadata": {
        "id": "8DeRnxUoEzek"
      },
      "source": [
        "Plot ROC Curve and AUC"
      ]
    },
    {
      "cell_type": "code",
      "metadata": {
        "id": "t9K8CqOrBdLQ"
      },
      "source": [
        "# from sklearn.metrics import roc_auc_score\n",
        "\n",
        "# def roc_auc_score_multiclass(actual_class, pred_class, average = \"macro\"):\n",
        "\n",
        "#   #creating a set of all the unique classes using the actual class list\n",
        "#   unique_class = set(actual_class)\n",
        "#   roc_auc_dict = {}\n",
        "#   for per_class in unique_class:\n",
        "#     #creating a list of all the classes except the current class \n",
        "#     other_class = [x for x in unique_class if x != per_class]\n",
        "\n",
        "#     #marking the current class as 1 and all other classes as 0\n",
        "#     new_actual_class = [0 if x in other_class else 1 for x in actual_class]\n",
        "#     new_pred_class = [0 if x in other_class else 1 for x in pred_class]\n",
        "\n",
        "#     #using the sklearn metrics method to calculate the roc_auc_score\n",
        "#     roc_auc = roc_auc_score(new_actual_class, new_pred_class, average = average)\n",
        "#     roc_auc_dict[per_class] = roc_auc\n",
        "\n",
        "#   return roc_auc_dict\n",
        "\n",
        "# print(\"\\nLogistic Regression\")\n",
        "# lr_roc_auc_multiclass = roc_auc_score_multiclass(y_test, y_pred)\n",
        "# print(lr_roc_auc_multiclass)"
      ],
      "execution_count": null,
      "outputs": []
    },
    {
      "cell_type": "code",
      "metadata": {
        "id": "V2qfpu8SAghM",
        "colab": {
          "base_uri": "https://localhost:8080/",
          "height": 35
        },
        "outputId": "24a9174e-7097-49bf-8ad5-b65f4ceefe5d"
      },
      "source": [
        " roc_auc_score(np.array(y_test), np.array(y_pred))"
      ],
      "execution_count": null,
      "outputs": [
        {
          "output_type": "execute_result",
          "data": {
            "text/plain": [
              "0.8729828621466099"
            ]
          },
          "metadata": {
            "tags": []
          },
          "execution_count": 74
        }
      ]
    },
    {
      "cell_type": "code",
      "metadata": {
        "id": "WZR4vZ9w9S9S"
      },
      "source": [
        "\n",
        "# from sklearn.metrics import roc_curve, auc \n",
        "\n",
        "# y_pred_proba=clf.predict_proba(X_test)\n",
        "# # Compute ROC curve and ROC area for each class\n",
        "# fpr = dict()\n",
        "# tpr = dict()\n",
        "# roc_auc = dict()\n",
        "# n_classes= 6 ## since in y_test we only have 6 classes  \n",
        "# for i in range(n_classes):\n",
        "#     fpr[i], tpr[i], _ = roc_curve(y_test_one_hot[:, i], y_pred_proba[:, i])\n",
        "#     roc_auc[i] = auc(fpr[i], tpr[i])\n",
        "\n",
        "# # Plot of a ROC curve for a specific class\n",
        "# for i in range(n_classes):\n",
        "#     print('for class', i+1)\n",
        "#     plt.figure()\n",
        "#     plt.plot(fpr[i], tpr[i], label='ROC curve (area = %0.2f)' % roc_auc[i])\n",
        "#     plt.plot([0, 1], [0, 1], 'k--')\n",
        "#     plt.xlim([0.0, 1.0])\n",
        "#     plt.ylim([0.0, 1.05])\n",
        "#     plt.xlabel('False Positive Rate')\n",
        "#     plt.ylabel('True Positive Rate')\n",
        "#     plt.title('Receiver operating characteristic example')\n",
        "#     plt.legend(loc=\"lower right\")\n",
        "#     plt.show()"
      ],
      "execution_count": null,
      "outputs": []
    },
    {
      "cell_type": "code",
      "metadata": {
        "id": "HBVhXhwsE3HH"
      },
      "source": [
        "from sklearn.metrics import roc_curve, auc \n",
        "\n",
        "fpr = dict()\n",
        "tpr = dict()\n",
        "roc_auc = dict()\n",
        "y_pred_proba=clf.predict_proba(X_test)\n",
        "fpr, tpr, _ = roc_curve(y_test,   y_pred_proba[:, 1]  )\n",
        "roc_auc = auc(fpr, tpr)"
      ],
      "execution_count": null,
      "outputs": []
    },
    {
      "cell_type": "code",
      "metadata": {
        "id": "UNoWv5v9KlHq",
        "colab": {
          "base_uri": "https://localhost:8080/",
          "height": 35
        },
        "outputId": "68beb044-7bad-4fd9-c5ae-7593dcd87b94"
      },
      "source": [
        "roc_auc"
      ],
      "execution_count": null,
      "outputs": [
        {
          "output_type": "execute_result",
          "data": {
            "text/plain": [
              "0.9753806832397025"
            ]
          },
          "metadata": {
            "tags": []
          },
          "execution_count": 77
        }
      ]
    },
    {
      "cell_type": "code",
      "metadata": {
        "id": "v9KLb10hLPvQ",
        "colab": {
          "base_uri": "https://localhost:8080/",
          "height": 295
        },
        "outputId": "ced50829-f2b1-424e-8c37-0ad702b15752"
      },
      "source": [
        "plt.figure()\n",
        "plt.plot(fpr, tpr, label='ROC curve (area = %0.2f)' % roc_auc)\n",
        "plt.plot([0, 1], [0, 1], 'k--')\n",
        "plt.xlim([0.0, 1.0])\n",
        "plt.ylim([0.0, 1.05])\n",
        "plt.xlabel('False Positive Rate')\n",
        "plt.ylabel('True Positive Rate')\n",
        "plt.title('Receiver operating characteristic example')\n",
        "plt.legend(loc=\"lower right\")\n",
        "plt.show()"
      ],
      "execution_count": null,
      "outputs": [
        {
          "output_type": "display_data",
          "data": {
            "image/png": "[encoded data removed]",
            "text/plain": [
              "<Figure size 432x288 with 1 Axes>"
            ]
          },
          "metadata": {
            "tags": [],
            "needs_background": "light"
          }
        }
      ]
    },
    {
      "cell_type": "markdown",
      "metadata": {
        "id": "Akl8I2zQE3hb"
      },
      "source": [
        "Plot the precision-recall curve for the model above.\n",
        "\n",
        "Find the best value for C in the Logistic Regression Classifier for avoiding overfitting. Plot the training and testing accuracy over a range of C values from 0.05 to 1.5."
      ]
    },
    {
      "cell_type": "code",
      "metadata": {
        "id": "s-JRD6AWE7AY",
        "colab": {
          "base_uri": "https://localhost:8080/",
          "height": 123
        },
        "outputId": "817ab4e8-6dd0-4004-ffe0-f3a2191c7f4b"
      },
      "source": [
        "import warnings\n",
        "warnings.filterwarnings(\"ignore\")  \n",
        "\n",
        "#Grid Search\n",
        "from sklearn.model_selection import GridSearchCV\n",
        "clf_gs = LogisticRegression( random_state=53)\n",
        "grid_values = {'penalty': ['l1', 'l2'],'C':[0.001,.009,0.01,.09,1,5,10,25]}\n",
        "grid_clf_acc = GridSearchCV(clf_gs, param_grid = grid_values,scoring = 'accuracy')\n",
        "grid_clf_acc.fit(X_train, y_train)\n",
        "\n",
        "#Predict values based on new parameters\n",
        "y_pred_acc = grid_clf_acc.predict(X_test)\n",
        "\n",
        "# New Model Evaluation metrics \n",
        "print('Accuracy Score : ' + str(accuracy_score(y_test,y_pred_acc)))\n",
        "print('Precision Score : ' + str(precision_score(y_test,y_pred_acc)))\n",
        "print('Recall Score : ' + str(recall_score(y_test,y_pred_acc)))\n",
        "print('F1 Score : ' + str(f1_score(y_test,y_pred_acc)))\n",
        "\n",
        "#Logistic Regression (Grid Search) Confusion matrix\n",
        "confusion_matrix(y_test,y_pred_acc)"
      ],
      "execution_count": null,
      "outputs": [
        {
          "output_type": "stream",
          "text": [
            "Accuracy Score : 0.963103448275862\n",
            "Precision Score : 0.9661670235546038\n",
            "Recall Score : 0.9877408056042032\n",
            "F1 Score : 0.9768348127300281\n"
          ],
          "name": "stdout"
        },
        {
          "output_type": "execute_result",
          "data": {
            "text/plain": [
              "array([[ 537,   79],\n",
              "       [  28, 2256]])"
            ]
          },
          "metadata": {
            "tags": []
          },
          "execution_count": 79
        }
      ]
    },
    {
      "cell_type": "markdown",
      "metadata": {
        "id": "lDGlk7L7E7ea"
      },
      "source": [
        "Perform 5-fold cross validation for a Logistic Regression Classifier. Print the 5 accuracy scores and the mean validation score."
      ]
    },
    {
      "cell_type": "code",
      "metadata": {
        "id": "9lZQ63alE-I4"
      },
      "source": [
        ""
      ],
      "execution_count": null,
      "outputs": []
    },
    {
      "cell_type": "markdown",
      "metadata": {
        "id": "LS1ZpABjE-lL"
      },
      "source": [
        "Our linear classifier is not giving us accuracy better than the dummy classifier. Suppose that the data was not linearly separable? Instantiate and train a KNN model with k = 7. How does the accuracy of the KNN model compare to the Logistic Regression from above? What does that tell you about the data?"
      ]
    },
    {
      "cell_type": "code",
      "metadata": {
        "id": "FqCV6hWjFB2O",
        "colab": {
          "base_uri": "https://localhost:8080/",
          "height": 35
        },
        "outputId": "3524eb9f-f73f-4efe-be17-fcab6afb7bb7"
      },
      "source": [
        "from sklearn.neighbors import KNeighborsClassifier \n",
        "neigh = KNeighborsClassifier(n_neighbors=2)\n",
        "neigh.fit(X_train, y_train)\n",
        "neigh.score(X_test, y_test)"
      ],
      "execution_count": null,
      "outputs": [
        {
          "output_type": "execute_result",
          "data": {
            "text/plain": [
              "0.9982758620689656"
            ]
          },
          "metadata": {
            "tags": []
          },
          "execution_count": 80
        }
      ]
    },
    {
      "cell_type": "markdown",
      "metadata": {
        "id": "pS0EDOa4FCS0"
      },
      "source": [
        "Next, instantiate and fit a RandomForestClassifier and calculate the accuracy of that model.\n",
        "\n",
        " \n",
        "\n",
        "Now, some additional questions about analyzing model performance."
      ]
    },
    {
      "cell_type": "code",
      "metadata": {
        "id": "gcoqLVpVFHBl",
        "colab": {
          "base_uri": "https://localhost:8080/",
          "height": 35
        },
        "outputId": "ffb36c8d-c307-4a95-e4d6-6f3938a7bc8e"
      },
      "source": [
        "from sklearn.ensemble import RandomForestClassifier\n",
        "rf = RandomForestClassifier(max_depth=2, random_state=0)\n",
        "rf.fit(X_train, y_train)\n",
        "rf.score(X_test, y_test)"
      ],
      "execution_count": null,
      "outputs": [
        {
          "output_type": "execute_result",
          "data": {
            "text/plain": [
              "0.9955172413793103"
            ]
          },
          "metadata": {
            "tags": []
          },
          "execution_count": 81
        }
      ]
    },
    {
      "cell_type": "code",
      "metadata": {
        "id": "M1HEjYHVLyTZ"
      },
      "source": [
        ""
      ],
      "execution_count": null,
      "outputs": []
    }
  ]
}